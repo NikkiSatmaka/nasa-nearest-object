{
 "cells": [
  {
   "cell_type": "markdown",
   "metadata": {},
   "source": [
    "## Introduction"
   ]
  },
  {
   "cell_type": "markdown",
   "metadata": {},
   "source": [
    "**I. Dataset Information**\n",
    "\n",
    "- id : Unique Identifier for each Asteroid\n",
    "- name : Name given by NASA\n",
    "- est_diameter_min : Minimum Estimated Diameter in Kilometres\n",
    "- est_diameter_max : Maximum Estimated Diameter in Kilometres\n",
    "- relative_velocity : Velocity Relative to Earth in Kmph\n",
    "- miss_distance : Distance in Kilometres missed\n",
    "- orbiting_body : Planet that the asteroid orbits\n",
    "- sentry_object : Included in sentry - automated collision monitoring system\n",
    "- absolute_magnitude : Describes intrinsic luminosity\n",
    "\n",
    "**Target Label**\n",
    "- hazardous : Boolean feature that shows whether asteroid is harmful or not"
   ]
  },
  {
   "cell_type": "markdown",
   "metadata": {},
   "source": [
    "## Import Libraries\n"
   ]
  },
  {
   "cell_type": "code",
   "execution_count": 1,
   "metadata": {},
   "outputs": [],
   "source": [
    "# Import Libraries\n",
    "import pandas as pd\n",
    "import numpy as np\n",
    "from datetime import datetime as dt\n",
    "from scipy import stats\n",
    "\n",
    "# Visualization\n",
    "import matplotlib.pyplot as plt\n",
    "import seaborn as sns; sns.set()\n",
    "import plotly.express as px\n",
    "from matplotlib import cm\n",
    "\n",
    "# Data Preprocessing\n",
    "from sklearn.model_selection import train_test_split\n",
    "from feature_engine.outliers import OutlierTrimmer, Winsorizer\n",
    "from sklearn.compose import ColumnTransformer\n",
    "from sklearn.pipeline import Pipeline\n",
    "from sklearn.preprocessing import StandardScaler, MinMaxScaler,OneHotEncoder\n",
    "\n",
    "# Model\n",
    "from sklearn.linear_model import LogisticRegression\n",
    "from sklearn.ensemble import RandomForestClassifier, AdaBoostClassifier\n",
    "from sklearn.svm import SVC\n",
    "from sklearn.neighbors import KNeighborsClassifier\n",
    "from sklearn.model_selection import cross_val_score, GridSearchCV\n",
    "from mlxtend.plotting import plot_confusion_matrix\n",
    "\n",
    "# Metric\n",
    "from sklearn.metrics import classification_report, roc_auc_score, auc, RocCurveDisplay, roc_curve, confusion_matrix\n",
    "\n",
    "# Deployment\n",
    "import joblib\n",
    "\n",
    "import warnings\n",
    "warnings.filterwarnings(\"ignore\")"
   ]
  },
  {
   "cell_type": "markdown",
   "metadata": {},
   "source": [
    "## Data Loading"
   ]
  },
  {
   "cell_type": "code",
   "execution_count": 2,
   "metadata": {},
   "outputs": [],
   "source": [
    "# Load Data and save it in `df_og` variable\n",
    "df_train_test = pd.read_csv('data/neo_v2.csv')\n",
    "\n",
    "# Make copy from the df\n",
    "df = df_train_test.copy()"
   ]
  },
  {
   "cell_type": "markdown",
   "metadata": {},
   "source": [
    "**Dataset preview**"
   ]
  },
  {
   "cell_type": "code",
   "execution_count": 3,
   "metadata": {},
   "outputs": [
    {
     "data": {
      "text/html": [
       "<div>\n",
       "<style scoped>\n",
       "    .dataframe tbody tr th:only-of-type {\n",
       "        vertical-align: middle;\n",
       "    }\n",
       "\n",
       "    .dataframe tbody tr th {\n",
       "        vertical-align: top;\n",
       "    }\n",
       "\n",
       "    .dataframe thead th {\n",
       "        text-align: right;\n",
       "    }\n",
       "</style>\n",
       "<table border=\"1\" class=\"dataframe\">\n",
       "  <thead>\n",
       "    <tr style=\"text-align: right;\">\n",
       "      <th></th>\n",
       "      <th>id</th>\n",
       "      <th>name</th>\n",
       "      <th>est_diameter_min</th>\n",
       "      <th>est_diameter_max</th>\n",
       "      <th>relative_velocity</th>\n",
       "      <th>miss_distance</th>\n",
       "      <th>orbiting_body</th>\n",
       "      <th>sentry_object</th>\n",
       "      <th>absolute_magnitude</th>\n",
       "      <th>hazardous</th>\n",
       "    </tr>\n",
       "  </thead>\n",
       "  <tbody>\n",
       "    <tr>\n",
       "      <th>0</th>\n",
       "      <td>2162635</td>\n",
       "      <td>162635 (2000 SS164)</td>\n",
       "      <td>1.198271</td>\n",
       "      <td>2.679415</td>\n",
       "      <td>13569.249224</td>\n",
       "      <td>5.483974e+07</td>\n",
       "      <td>Earth</td>\n",
       "      <td>False</td>\n",
       "      <td>16.73</td>\n",
       "      <td>False</td>\n",
       "    </tr>\n",
       "    <tr>\n",
       "      <th>1</th>\n",
       "      <td>2277475</td>\n",
       "      <td>277475 (2005 WK4)</td>\n",
       "      <td>0.265800</td>\n",
       "      <td>0.594347</td>\n",
       "      <td>73588.726663</td>\n",
       "      <td>6.143813e+07</td>\n",
       "      <td>Earth</td>\n",
       "      <td>False</td>\n",
       "      <td>20.00</td>\n",
       "      <td>True</td>\n",
       "    </tr>\n",
       "    <tr>\n",
       "      <th>2</th>\n",
       "      <td>2512244</td>\n",
       "      <td>512244 (2015 YE18)</td>\n",
       "      <td>0.722030</td>\n",
       "      <td>1.614507</td>\n",
       "      <td>114258.692129</td>\n",
       "      <td>4.979872e+07</td>\n",
       "      <td>Earth</td>\n",
       "      <td>False</td>\n",
       "      <td>17.83</td>\n",
       "      <td>False</td>\n",
       "    </tr>\n",
       "    <tr>\n",
       "      <th>3</th>\n",
       "      <td>3596030</td>\n",
       "      <td>(2012 BV13)</td>\n",
       "      <td>0.096506</td>\n",
       "      <td>0.215794</td>\n",
       "      <td>24764.303138</td>\n",
       "      <td>2.543497e+07</td>\n",
       "      <td>Earth</td>\n",
       "      <td>False</td>\n",
       "      <td>22.20</td>\n",
       "      <td>False</td>\n",
       "    </tr>\n",
       "    <tr>\n",
       "      <th>4</th>\n",
       "      <td>3667127</td>\n",
       "      <td>(2014 GE35)</td>\n",
       "      <td>0.255009</td>\n",
       "      <td>0.570217</td>\n",
       "      <td>42737.733765</td>\n",
       "      <td>4.627557e+07</td>\n",
       "      <td>Earth</td>\n",
       "      <td>False</td>\n",
       "      <td>20.09</td>\n",
       "      <td>True</td>\n",
       "    </tr>\n",
       "  </tbody>\n",
       "</table>\n",
       "</div>"
      ],
      "text/plain": [
       "        id                 name  est_diameter_min  est_diameter_max  \\\n",
       "0  2162635  162635 (2000 SS164)          1.198271          2.679415   \n",
       "1  2277475    277475 (2005 WK4)          0.265800          0.594347   \n",
       "2  2512244   512244 (2015 YE18)          0.722030          1.614507   \n",
       "3  3596030          (2012 BV13)          0.096506          0.215794   \n",
       "4  3667127          (2014 GE35)          0.255009          0.570217   \n",
       "\n",
       "   relative_velocity  miss_distance orbiting_body  sentry_object  \\\n",
       "0       13569.249224   5.483974e+07         Earth          False   \n",
       "1       73588.726663   6.143813e+07         Earth          False   \n",
       "2      114258.692129   4.979872e+07         Earth          False   \n",
       "3       24764.303138   2.543497e+07         Earth          False   \n",
       "4       42737.733765   4.627557e+07         Earth          False   \n",
       "\n",
       "   absolute_magnitude  hazardous  \n",
       "0               16.73      False  \n",
       "1               20.00       True  \n",
       "2               17.83      False  \n",
       "3               22.20      False  \n",
       "4               20.09       True  "
      ]
     },
     "execution_count": 3,
     "metadata": {},
     "output_type": "execute_result"
    }
   ],
   "source": [
    "# Show the Dataset\n",
    "pd.set_option('display.max_columns', None)\n",
    "df.head()"
   ]
  },
  {
   "cell_type": "code",
   "execution_count": 4,
   "metadata": {},
   "outputs": [
    {
     "data": {
      "text/html": [
       "<div>\n",
       "<style scoped>\n",
       "    .dataframe tbody tr th:only-of-type {\n",
       "        vertical-align: middle;\n",
       "    }\n",
       "\n",
       "    .dataframe tbody tr th {\n",
       "        vertical-align: top;\n",
       "    }\n",
       "\n",
       "    .dataframe thead th {\n",
       "        text-align: right;\n",
       "    }\n",
       "</style>\n",
       "<table border=\"1\" class=\"dataframe\">\n",
       "  <thead>\n",
       "    <tr style=\"text-align: right;\">\n",
       "      <th></th>\n",
       "      <th>id</th>\n",
       "      <th>name</th>\n",
       "      <th>est_diameter_min</th>\n",
       "      <th>est_diameter_max</th>\n",
       "      <th>relative_velocity</th>\n",
       "      <th>miss_distance</th>\n",
       "      <th>orbiting_body</th>\n",
       "      <th>sentry_object</th>\n",
       "      <th>absolute_magnitude</th>\n",
       "      <th>hazardous</th>\n",
       "    </tr>\n",
       "  </thead>\n",
       "  <tbody>\n",
       "    <tr>\n",
       "      <th>90831</th>\n",
       "      <td>3763337</td>\n",
       "      <td>(2016 VX1)</td>\n",
       "      <td>0.026580</td>\n",
       "      <td>0.059435</td>\n",
       "      <td>52078.886692</td>\n",
       "      <td>1.230039e+07</td>\n",
       "      <td>Earth</td>\n",
       "      <td>False</td>\n",
       "      <td>25.00</td>\n",
       "      <td>False</td>\n",
       "    </tr>\n",
       "    <tr>\n",
       "      <th>90832</th>\n",
       "      <td>3837603</td>\n",
       "      <td>(2019 AD3)</td>\n",
       "      <td>0.016771</td>\n",
       "      <td>0.037501</td>\n",
       "      <td>46114.605073</td>\n",
       "      <td>5.432121e+07</td>\n",
       "      <td>Earth</td>\n",
       "      <td>False</td>\n",
       "      <td>26.00</td>\n",
       "      <td>False</td>\n",
       "    </tr>\n",
       "    <tr>\n",
       "      <th>90833</th>\n",
       "      <td>54017201</td>\n",
       "      <td>(2020 JP3)</td>\n",
       "      <td>0.031956</td>\n",
       "      <td>0.071456</td>\n",
       "      <td>7566.807732</td>\n",
       "      <td>2.840077e+07</td>\n",
       "      <td>Earth</td>\n",
       "      <td>False</td>\n",
       "      <td>24.60</td>\n",
       "      <td>False</td>\n",
       "    </tr>\n",
       "    <tr>\n",
       "      <th>90834</th>\n",
       "      <td>54115824</td>\n",
       "      <td>(2021 CN5)</td>\n",
       "      <td>0.007321</td>\n",
       "      <td>0.016370</td>\n",
       "      <td>69199.154484</td>\n",
       "      <td>6.869206e+07</td>\n",
       "      <td>Earth</td>\n",
       "      <td>False</td>\n",
       "      <td>27.80</td>\n",
       "      <td>False</td>\n",
       "    </tr>\n",
       "    <tr>\n",
       "      <th>90835</th>\n",
       "      <td>54205447</td>\n",
       "      <td>(2021 TW7)</td>\n",
       "      <td>0.039862</td>\n",
       "      <td>0.089133</td>\n",
       "      <td>27024.455553</td>\n",
       "      <td>5.977213e+07</td>\n",
       "      <td>Earth</td>\n",
       "      <td>False</td>\n",
       "      <td>24.12</td>\n",
       "      <td>False</td>\n",
       "    </tr>\n",
       "  </tbody>\n",
       "</table>\n",
       "</div>"
      ],
      "text/plain": [
       "             id        name  est_diameter_min  est_diameter_max  \\\n",
       "90831   3763337  (2016 VX1)          0.026580          0.059435   \n",
       "90832   3837603  (2019 AD3)          0.016771          0.037501   \n",
       "90833  54017201  (2020 JP3)          0.031956          0.071456   \n",
       "90834  54115824  (2021 CN5)          0.007321          0.016370   \n",
       "90835  54205447  (2021 TW7)          0.039862          0.089133   \n",
       "\n",
       "       relative_velocity  miss_distance orbiting_body  sentry_object  \\\n",
       "90831       52078.886692   1.230039e+07         Earth          False   \n",
       "90832       46114.605073   5.432121e+07         Earth          False   \n",
       "90833        7566.807732   2.840077e+07         Earth          False   \n",
       "90834       69199.154484   6.869206e+07         Earth          False   \n",
       "90835       27024.455553   5.977213e+07         Earth          False   \n",
       "\n",
       "       absolute_magnitude  hazardous  \n",
       "90831               25.00      False  \n",
       "90832               26.00      False  \n",
       "90833               24.60      False  \n",
       "90834               27.80      False  \n",
       "90835               24.12      False  "
      ]
     },
     "execution_count": 4,
     "metadata": {},
     "output_type": "execute_result"
    }
   ],
   "source": [
    "df.tail()"
   ]
  },
  {
   "cell_type": "code",
   "execution_count": 5,
   "metadata": {},
   "outputs": [
    {
     "data": {
      "text/plain": [
       "(90836, 10)"
      ]
     },
     "execution_count": 5,
     "metadata": {},
     "output_type": "execute_result"
    }
   ],
   "source": [
    "# Dataset shape \n",
    "df.shape"
   ]
  },
  {
   "cell_type": "code",
   "execution_count": 6,
   "metadata": {},
   "outputs": [
    {
     "name": "stdout",
     "output_type": "stream",
     "text": [
      "<class 'pandas.core.frame.DataFrame'>\n",
      "RangeIndex: 90836 entries, 0 to 90835\n",
      "Data columns (total 10 columns):\n",
      " #   Column              Non-Null Count  Dtype  \n",
      "---  ------              --------------  -----  \n",
      " 0   id                  90836 non-null  int64  \n",
      " 1   name                90836 non-null  object \n",
      " 2   est_diameter_min    90836 non-null  float64\n",
      " 3   est_diameter_max    90836 non-null  float64\n",
      " 4   relative_velocity   90836 non-null  float64\n",
      " 5   miss_distance       90836 non-null  float64\n",
      " 6   orbiting_body       90836 non-null  object \n",
      " 7   sentry_object       90836 non-null  bool   \n",
      " 8   absolute_magnitude  90836 non-null  float64\n",
      " 9   hazardous           90836 non-null  bool   \n",
      "dtypes: bool(2), float64(5), int64(1), object(2)\n",
      "memory usage: 5.7+ MB\n"
     ]
    }
   ],
   "source": [
    "# Dataset Info\n",
    "df.info()"
   ]
  },
  {
   "cell_type": "code",
   "execution_count": 7,
   "metadata": {},
   "outputs": [
    {
     "data": {
      "text/plain": [
       "id                    0\n",
       "name                  0\n",
       "est_diameter_min      0\n",
       "est_diameter_max      0\n",
       "relative_velocity     0\n",
       "miss_distance         0\n",
       "orbiting_body         0\n",
       "sentry_object         0\n",
       "absolute_magnitude    0\n",
       "hazardous             0\n",
       "dtype: int64"
      ]
     },
     "execution_count": 7,
     "metadata": {},
     "output_type": "execute_result"
    }
   ],
   "source": [
    "# Null value summary\n",
    "df.isnull().sum().sort_values()"
   ]
  },
  {
   "cell_type": "code",
   "execution_count": 8,
   "metadata": {},
   "outputs": [
    {
     "data": {
      "text/plain": [
       "469219 Kamo`oalewa (2016 HO3)    42\n",
       "277810 (2006 FV35)               42\n",
       "(2016 CA138)                     39\n",
       "138175 (2000 EE104)              38\n",
       "(2019 XS)                        37\n",
       "                                 ..\n",
       "(2019 HL4)                        1\n",
       "(2010 UE51)                       1\n",
       "(2007 VC138)                      1\n",
       "(2014 KE39)                       1\n",
       "(2018 BN3)                        1\n",
       "Name: name, Length: 15902, dtype: int64"
      ]
     },
     "execution_count": 8,
     "metadata": {},
     "output_type": "execute_result"
    }
   ],
   "source": [
    "# check duplicate values in dataset\n",
    "df[df.duplicated(subset=['name'])].name.value_counts()"
   ]
  },
  {
   "cell_type": "code",
   "execution_count": 9,
   "metadata": {},
   "outputs": [
    {
     "data": {
      "text/html": [
       "<div>\n",
       "<style scoped>\n",
       "    .dataframe tbody tr th:only-of-type {\n",
       "        vertical-align: middle;\n",
       "    }\n",
       "\n",
       "    .dataframe tbody tr th {\n",
       "        vertical-align: top;\n",
       "    }\n",
       "\n",
       "    .dataframe thead th {\n",
       "        text-align: right;\n",
       "    }\n",
       "</style>\n",
       "<table border=\"1\" class=\"dataframe\">\n",
       "  <thead>\n",
       "    <tr style=\"text-align: right;\">\n",
       "      <th></th>\n",
       "      <th>id</th>\n",
       "      <th>name</th>\n",
       "      <th>est_diameter_min</th>\n",
       "      <th>est_diameter_max</th>\n",
       "      <th>relative_velocity</th>\n",
       "      <th>miss_distance</th>\n",
       "      <th>orbiting_body</th>\n",
       "      <th>sentry_object</th>\n",
       "      <th>absolute_magnitude</th>\n",
       "      <th>hazardous</th>\n",
       "    </tr>\n",
       "  </thead>\n",
       "  <tbody>\n",
       "    <tr>\n",
       "      <th>912</th>\n",
       "      <td>2469219</td>\n",
       "      <td>469219 Kamo`oalewa (2016 HO3)</td>\n",
       "      <td>0.036187</td>\n",
       "      <td>0.080917</td>\n",
       "      <td>15334.830488</td>\n",
       "      <td>2.105350e+07</td>\n",
       "      <td>Earth</td>\n",
       "      <td>False</td>\n",
       "      <td>24.33</td>\n",
       "      <td>False</td>\n",
       "    </tr>\n",
       "    <tr>\n",
       "      <th>2169</th>\n",
       "      <td>2469219</td>\n",
       "      <td>469219 Kamo`oalewa (2016 HO3)</td>\n",
       "      <td>0.036187</td>\n",
       "      <td>0.080917</td>\n",
       "      <td>15860.941084</td>\n",
       "      <td>2.297678e+07</td>\n",
       "      <td>Earth</td>\n",
       "      <td>False</td>\n",
       "      <td>24.33</td>\n",
       "      <td>False</td>\n",
       "    </tr>\n",
       "    <tr>\n",
       "      <th>3972</th>\n",
       "      <td>2469219</td>\n",
       "      <td>469219 Kamo`oalewa (2016 HO3)</td>\n",
       "      <td>0.036187</td>\n",
       "      <td>0.080917</td>\n",
       "      <td>15382.529101</td>\n",
       "      <td>2.032125e+07</td>\n",
       "      <td>Earth</td>\n",
       "      <td>False</td>\n",
       "      <td>24.33</td>\n",
       "      <td>False</td>\n",
       "    </tr>\n",
       "    <tr>\n",
       "      <th>5128</th>\n",
       "      <td>2469219</td>\n",
       "      <td>469219 Kamo`oalewa (2016 HO3)</td>\n",
       "      <td>0.036187</td>\n",
       "      <td>0.080917</td>\n",
       "      <td>15285.830876</td>\n",
       "      <td>2.345715e+07</td>\n",
       "      <td>Earth</td>\n",
       "      <td>False</td>\n",
       "      <td>24.33</td>\n",
       "      <td>False</td>\n",
       "    </tr>\n",
       "    <tr>\n",
       "      <th>6988</th>\n",
       "      <td>2469219</td>\n",
       "      <td>469219 Kamo`oalewa (2016 HO3)</td>\n",
       "      <td>0.036187</td>\n",
       "      <td>0.080917</td>\n",
       "      <td>15464.296154</td>\n",
       "      <td>1.954735e+07</td>\n",
       "      <td>Earth</td>\n",
       "      <td>False</td>\n",
       "      <td>24.33</td>\n",
       "      <td>False</td>\n",
       "    </tr>\n",
       "    <tr>\n",
       "      <th>8091</th>\n",
       "      <td>2469219</td>\n",
       "      <td>469219 Kamo`oalewa (2016 HO3)</td>\n",
       "      <td>0.036187</td>\n",
       "      <td>0.080917</td>\n",
       "      <td>14629.980565</td>\n",
       "      <td>2.383909e+07</td>\n",
       "      <td>Earth</td>\n",
       "      <td>False</td>\n",
       "      <td>24.33</td>\n",
       "      <td>False</td>\n",
       "    </tr>\n",
       "    <tr>\n",
       "      <th>10081</th>\n",
       "      <td>2469219</td>\n",
       "      <td>469219 Kamo`oalewa (2016 HO3)</td>\n",
       "      <td>0.036187</td>\n",
       "      <td>0.080917</td>\n",
       "      <td>15445.978808</td>\n",
       "      <td>1.880784e+07</td>\n",
       "      <td>Earth</td>\n",
       "      <td>False</td>\n",
       "      <td>24.33</td>\n",
       "      <td>False</td>\n",
       "    </tr>\n",
       "    <tr>\n",
       "      <th>11183</th>\n",
       "      <td>2469219</td>\n",
       "      <td>469219 Kamo`oalewa (2016 HO3)</td>\n",
       "      <td>0.036187</td>\n",
       "      <td>0.080917</td>\n",
       "      <td>13963.527790</td>\n",
       "      <td>2.409758e+07</td>\n",
       "      <td>Earth</td>\n",
       "      <td>False</td>\n",
       "      <td>24.33</td>\n",
       "      <td>False</td>\n",
       "    </tr>\n",
       "    <tr>\n",
       "      <th>13252</th>\n",
       "      <td>2469219</td>\n",
       "      <td>469219 Kamo`oalewa (2016 HO3)</td>\n",
       "      <td>0.036187</td>\n",
       "      <td>0.080917</td>\n",
       "      <td>15495.759121</td>\n",
       "      <td>1.812412e+07</td>\n",
       "      <td>Earth</td>\n",
       "      <td>False</td>\n",
       "      <td>24.33</td>\n",
       "      <td>False</td>\n",
       "    </tr>\n",
       "    <tr>\n",
       "      <th>14401</th>\n",
       "      <td>2469219</td>\n",
       "      <td>469219 Kamo`oalewa (2016 HO3)</td>\n",
       "      <td>0.036187</td>\n",
       "      <td>0.080917</td>\n",
       "      <td>13260.624583</td>\n",
       "      <td>2.424962e+07</td>\n",
       "      <td>Earth</td>\n",
       "      <td>False</td>\n",
       "      <td>24.33</td>\n",
       "      <td>False</td>\n",
       "    </tr>\n",
       "  </tbody>\n",
       "</table>\n",
       "</div>"
      ],
      "text/plain": [
       "            id                           name  est_diameter_min  \\\n",
       "912    2469219  469219 Kamo`oalewa (2016 HO3)          0.036187   \n",
       "2169   2469219  469219 Kamo`oalewa (2016 HO3)          0.036187   \n",
       "3972   2469219  469219 Kamo`oalewa (2016 HO3)          0.036187   \n",
       "5128   2469219  469219 Kamo`oalewa (2016 HO3)          0.036187   \n",
       "6988   2469219  469219 Kamo`oalewa (2016 HO3)          0.036187   \n",
       "8091   2469219  469219 Kamo`oalewa (2016 HO3)          0.036187   \n",
       "10081  2469219  469219 Kamo`oalewa (2016 HO3)          0.036187   \n",
       "11183  2469219  469219 Kamo`oalewa (2016 HO3)          0.036187   \n",
       "13252  2469219  469219 Kamo`oalewa (2016 HO3)          0.036187   \n",
       "14401  2469219  469219 Kamo`oalewa (2016 HO3)          0.036187   \n",
       "\n",
       "       est_diameter_max  relative_velocity  miss_distance orbiting_body  \\\n",
       "912            0.080917       15334.830488   2.105350e+07         Earth   \n",
       "2169           0.080917       15860.941084   2.297678e+07         Earth   \n",
       "3972           0.080917       15382.529101   2.032125e+07         Earth   \n",
       "5128           0.080917       15285.830876   2.345715e+07         Earth   \n",
       "6988           0.080917       15464.296154   1.954735e+07         Earth   \n",
       "8091           0.080917       14629.980565   2.383909e+07         Earth   \n",
       "10081          0.080917       15445.978808   1.880784e+07         Earth   \n",
       "11183          0.080917       13963.527790   2.409758e+07         Earth   \n",
       "13252          0.080917       15495.759121   1.812412e+07         Earth   \n",
       "14401          0.080917       13260.624583   2.424962e+07         Earth   \n",
       "\n",
       "       sentry_object  absolute_magnitude  hazardous  \n",
       "912            False               24.33      False  \n",
       "2169           False               24.33      False  \n",
       "3972           False               24.33      False  \n",
       "5128           False               24.33      False  \n",
       "6988           False               24.33      False  \n",
       "8091           False               24.33      False  \n",
       "10081          False               24.33      False  \n",
       "11183          False               24.33      False  \n",
       "13252          False               24.33      False  \n",
       "14401          False               24.33      False  "
      ]
     },
     "execution_count": 9,
     "metadata": {},
     "output_type": "execute_result"
    }
   ],
   "source": [
    "df[df.name == '469219 Kamo`oalewa (2016 HO3)'].head(10)"
   ]
  },
  {
   "cell_type": "code",
   "execution_count": 10,
   "metadata": {},
   "outputs": [
    {
     "data": {
      "text/html": [
       "<div>\n",
       "<style scoped>\n",
       "    .dataframe tbody tr th:only-of-type {\n",
       "        vertical-align: middle;\n",
       "    }\n",
       "\n",
       "    .dataframe tbody tr th {\n",
       "        vertical-align: top;\n",
       "    }\n",
       "\n",
       "    .dataframe thead th {\n",
       "        text-align: right;\n",
       "    }\n",
       "</style>\n",
       "<table border=\"1\" class=\"dataframe\">\n",
       "  <thead>\n",
       "    <tr style=\"text-align: right;\">\n",
       "      <th></th>\n",
       "      <th>count</th>\n",
       "      <th>mean</th>\n",
       "      <th>std</th>\n",
       "      <th>min</th>\n",
       "      <th>50%</th>\n",
       "      <th>max</th>\n",
       "    </tr>\n",
       "  </thead>\n",
       "  <tbody>\n",
       "    <tr>\n",
       "      <th>id</th>\n",
       "      <td>90836.0</td>\n",
       "      <td>14382878.0</td>\n",
       "      <td>20872018.0</td>\n",
       "      <td>2000433.0</td>\n",
       "      <td>3748362.0</td>\n",
       "      <td>54275914.0</td>\n",
       "    </tr>\n",
       "    <tr>\n",
       "      <th>est_diameter_min</th>\n",
       "      <td>90836.0</td>\n",
       "      <td>0.0</td>\n",
       "      <td>0.0</td>\n",
       "      <td>0.0</td>\n",
       "      <td>0.0</td>\n",
       "      <td>38.0</td>\n",
       "    </tr>\n",
       "    <tr>\n",
       "      <th>est_diameter_max</th>\n",
       "      <td>90836.0</td>\n",
       "      <td>0.0</td>\n",
       "      <td>1.0</td>\n",
       "      <td>0.0</td>\n",
       "      <td>0.0</td>\n",
       "      <td>85.0</td>\n",
       "    </tr>\n",
       "    <tr>\n",
       "      <th>relative_velocity</th>\n",
       "      <td>90836.0</td>\n",
       "      <td>48067.0</td>\n",
       "      <td>25293.0</td>\n",
       "      <td>203.0</td>\n",
       "      <td>44190.0</td>\n",
       "      <td>236990.0</td>\n",
       "    </tr>\n",
       "    <tr>\n",
       "      <th>miss_distance</th>\n",
       "      <td>90836.0</td>\n",
       "      <td>37066546.0</td>\n",
       "      <td>22352041.0</td>\n",
       "      <td>6746.0</td>\n",
       "      <td>37846579.0</td>\n",
       "      <td>74798651.0</td>\n",
       "    </tr>\n",
       "    <tr>\n",
       "      <th>absolute_magnitude</th>\n",
       "      <td>90836.0</td>\n",
       "      <td>24.0</td>\n",
       "      <td>3.0</td>\n",
       "      <td>9.0</td>\n",
       "      <td>24.0</td>\n",
       "      <td>33.0</td>\n",
       "    </tr>\n",
       "  </tbody>\n",
       "</table>\n",
       "</div>"
      ],
      "text/plain": [
       "                      count        mean         std        min         50%  \\\n",
       "id                  90836.0  14382878.0  20872018.0  2000433.0   3748362.0   \n",
       "est_diameter_min    90836.0         0.0         0.0        0.0         0.0   \n",
       "est_diameter_max    90836.0         0.0         1.0        0.0         0.0   \n",
       "relative_velocity   90836.0     48067.0     25293.0      203.0     44190.0   \n",
       "miss_distance       90836.0  37066546.0  22352041.0     6746.0  37846579.0   \n",
       "absolute_magnitude  90836.0        24.0         3.0        9.0        24.0   \n",
       "\n",
       "                           max  \n",
       "id                  54275914.0  \n",
       "est_diameter_min          38.0  \n",
       "est_diameter_max          85.0  \n",
       "relative_velocity     236990.0  \n",
       "miss_distance       74798651.0  \n",
       "absolute_magnitude        33.0  "
      ]
     },
     "execution_count": 10,
     "metadata": {},
     "output_type": "execute_result"
    }
   ],
   "source": [
    "# Dataset Check\n",
    "df.describe(percentiles=[0.5]).round().T"
   ]
  },
  {
   "cell_type": "code",
   "execution_count": 11,
   "metadata": {},
   "outputs": [
    {
     "data": {
      "text/html": [
       "<div>\n",
       "<style scoped>\n",
       "    .dataframe tbody tr th:only-of-type {\n",
       "        vertical-align: middle;\n",
       "    }\n",
       "\n",
       "    .dataframe tbody tr th {\n",
       "        vertical-align: top;\n",
       "    }\n",
       "\n",
       "    .dataframe thead th {\n",
       "        text-align: right;\n",
       "    }\n",
       "</style>\n",
       "<table border=\"1\" class=\"dataframe\">\n",
       "  <thead>\n",
       "    <tr style=\"text-align: right;\">\n",
       "      <th></th>\n",
       "      <th>count</th>\n",
       "      <th>unique</th>\n",
       "      <th>top</th>\n",
       "      <th>freq</th>\n",
       "    </tr>\n",
       "  </thead>\n",
       "  <tbody>\n",
       "    <tr>\n",
       "      <th>name</th>\n",
       "      <td>90836</td>\n",
       "      <td>27423</td>\n",
       "      <td>469219 Kamo`oalewa (2016 HO3)</td>\n",
       "      <td>43</td>\n",
       "    </tr>\n",
       "    <tr>\n",
       "      <th>orbiting_body</th>\n",
       "      <td>90836</td>\n",
       "      <td>1</td>\n",
       "      <td>Earth</td>\n",
       "      <td>90836</td>\n",
       "    </tr>\n",
       "  </tbody>\n",
       "</table>\n",
       "</div>"
      ],
      "text/plain": [
       "               count unique                            top   freq\n",
       "name           90836  27423  469219 Kamo`oalewa (2016 HO3)     43\n",
       "orbiting_body  90836      1                          Earth  90836"
      ]
     },
     "execution_count": 11,
     "metadata": {},
     "output_type": "execute_result"
    }
   ],
   "source": [
    "# Dataset Check\n",
    "df.describe(include=object).T"
   ]
  },
  {
   "cell_type": "markdown",
   "metadata": {},
   "source": [
    "Insight of Dataset Preview process:\n",
    "\n",
    "Based on above process, i get these following information:\n",
    "- The dataset consist of 90836 rows of entries and 10 columns.\n",
    "- The dataset are 5 features float type, 2 features of object type, 1 feature of integer type and 2 features of boolean type.\n",
    "- There are no any missing value on this dataset.\n",
    "- There are some duplicates value but we gonna explore them more later."
   ]
  },
  {
   "cell_type": "markdown",
   "metadata": {},
   "source": [
    "---\n",
    "\n",
    "## Exploratory Data Analysis"
   ]
  },
  {
   "cell_type": "markdown",
   "metadata": {},
   "source": [
    "**Preset**"
   ]
  },
  {
   "cell_type": "code",
   "execution_count": 12,
   "metadata": {},
   "outputs": [],
   "source": [
    "# Create preset palette\n",
    "palette = {False : '#014F9D', True : '#DB0707'}"
   ]
  },
  {
   "cell_type": "markdown",
   "metadata": {},
   "source": [
    "**Preliminary Check**"
   ]
  },
  {
   "cell_type": "code",
   "execution_count": 13,
   "metadata": {},
   "outputs": [
    {
     "name": "stdout",
     "output_type": "stream",
     "text": [
      "variable: est_diameter_min\n",
      "null value count:  0\n",
      "\n",
      "Descriptive stats:\n",
      "count    90836.000000\n",
      "mean         0.127432\n",
      "std          0.298511\n",
      "min          0.000609\n",
      "25%          0.019256\n",
      "50%          0.048368\n",
      "75%          0.143402\n",
      "max         37.892650\n",
      "Name: est_diameter_min, dtype: float64\n"
     ]
    }
   ],
   "source": [
    "# Preliminary Check\n",
    "# Variable : est_diameter_min\n",
    "# Description : Minimum Estimated Diameter in Kilometres\n",
    "\n",
    "var = 'est_diameter_min'\n",
    "\n",
    "print('variable:', var)\n",
    "print('null value count: ', df[var].isnull().sum())\n",
    "print()\n",
    "print('Descriptive stats:')\n",
    "print(df[var].describe())"
   ]
  },
  {
   "cell_type": "code",
   "execution_count": 14,
   "metadata": {},
   "outputs": [
    {
     "name": "stdout",
     "output_type": "stream",
     "text": [
      "variable: est_diameter_max\n",
      "null value count:  0\n",
      "\n",
      "Descriptive stats:\n",
      "count    90836.000000\n",
      "mean         0.284947\n",
      "std          0.667491\n",
      "min          0.001362\n",
      "25%          0.043057\n",
      "50%          0.108153\n",
      "75%          0.320656\n",
      "max         84.730541\n",
      "Name: est_diameter_max, dtype: float64\n"
     ]
    }
   ],
   "source": [
    "# Preliminary Check\n",
    "# Variable : est_diameter_max\n",
    "# Description : Maximum Estimated Diameter in Kilometres\n",
    "\n",
    "var = 'est_diameter_max'\n",
    "\n",
    "print('variable:', var)\n",
    "print('null value count: ', df[var].isnull().sum())\n",
    "print()\n",
    "print('Descriptive stats:')\n",
    "print(df[var].describe())"
   ]
  },
  {
   "cell_type": "markdown",
   "metadata": {},
   "source": [
    "In this two features we can see has the same definition, we need to check it later, what we are going to do to this features."
   ]
  },
  {
   "cell_type": "code",
   "execution_count": 15,
   "metadata": {},
   "outputs": [
    {
     "name": "stdout",
     "output_type": "stream",
     "text": [
      "variable: relative_velocity\n",
      "null value count:  0\n",
      "\n",
      "Descriptive stats:\n",
      "count     90836.000000\n",
      "mean      48066.918918\n",
      "std       25293.296961\n",
      "min         203.346433\n",
      "25%       28619.020645\n",
      "50%       44190.117890\n",
      "75%       62923.604633\n",
      "max      236990.128088\n",
      "Name: relative_velocity, dtype: float64\n"
     ]
    }
   ],
   "source": [
    "# Preliminary Check\n",
    "# Variable : relative_velocity\n",
    "# Description : Velocity Relative to Earth in Kmph\n",
    "\n",
    "var = 'relative_velocity'\n",
    "\n",
    "print('variable:', var)\n",
    "print('null value count: ', df[var].isnull().sum())\n",
    "print()\n",
    "print('Descriptive stats:')\n",
    "print(df[var].describe())"
   ]
  },
  {
   "cell_type": "markdown",
   "metadata": {},
   "source": [
    "Looks like relative_velocity is already match with the columns description, so we can use it."
   ]
  },
  {
   "cell_type": "code",
   "execution_count": 16,
   "metadata": {},
   "outputs": [
    {
     "name": "stdout",
     "output_type": "stream",
     "text": [
      "variable: miss_distance\n",
      "null value count:  0\n",
      "\n",
      "Descriptive stats:\n",
      "count    9.083600e+04\n",
      "mean     3.706655e+07\n",
      "std      2.235204e+07\n",
      "min      6.745533e+03\n",
      "25%      1.721082e+07\n",
      "50%      3.784658e+07\n",
      "75%      5.654900e+07\n",
      "max      7.479865e+07\n",
      "Name: miss_distance, dtype: float64\n"
     ]
    }
   ],
   "source": [
    "# Preliminary Check\n",
    "# Variable : miss_distance\n",
    "# Description : Distance in Kilometres missed\n",
    "\n",
    "var = 'miss_distance'\n",
    "\n",
    "print('variable:', var)\n",
    "print('null value count: ', df[var].isnull().sum())\n",
    "print()\n",
    "print('Descriptive stats:')\n",
    "print(df[var].describe())"
   ]
  },
  {
   "cell_type": "markdown",
   "metadata": {},
   "source": [
    "Looks like relative_velocity is already match with the columns description, so we can use it."
   ]
  },
  {
   "cell_type": "code",
   "execution_count": 17,
   "metadata": {},
   "outputs": [
    {
     "name": "stdout",
     "output_type": "stream",
     "text": [
      "variable: absolute_magnitude\n",
      "null value count:  0\n",
      "\n",
      "Descriptive stats:\n",
      "count    90836.000000\n",
      "mean        23.527103\n",
      "std          2.894086\n",
      "min          9.230000\n",
      "25%         21.340000\n",
      "50%         23.700000\n",
      "75%         25.700000\n",
      "max         33.200000\n",
      "Name: absolute_magnitude, dtype: float64\n"
     ]
    }
   ],
   "source": [
    "# Preliminary Check\n",
    "# Variable : absolute_magnitude\n",
    "# Description : Describes intrinsic luminosity\n",
    "\n",
    "var = 'absolute_magnitude'\n",
    "\n",
    "print('variable:', var)\n",
    "print('null value count: ', df[var].isnull().sum())\n",
    "print()\n",
    "print('Descriptive stats:')\n",
    "print(df[var].describe())"
   ]
  },
  {
   "cell_type": "code",
   "execution_count": 18,
   "metadata": {},
   "outputs": [
    {
     "name": "stdout",
     "output_type": "stream",
     "text": [
      "variable: name\n",
      "null value count:  0\n",
      "\n",
      "Unique Value Count: 27423\n",
      "['162635 (2000 SS164)' '277475 (2005 WK4)' '512244 (2015 YE18)' ...\n",
      " '(2021 WR3)' '(2015 VK142)' '(1999 LV7)']\n",
      "object\n"
     ]
    }
   ],
   "source": [
    "# Preliminary Check\n",
    "# Variable : name\n",
    "# Description : Name by NASA\n",
    "\n",
    "var = 'name'\n",
    "\n",
    "print('variable:', var)\n",
    "print('null value count: ', df[var].isnull().sum())\n",
    "print()\n",
    "print('Unique Value Count:', df[var].nunique())\n",
    "print(df[var].unique())\n",
    "print(df[var].dtype)\n"
   ]
  },
  {
   "cell_type": "code",
   "execution_count": 19,
   "metadata": {},
   "outputs": [
    {
     "name": "stdout",
     "output_type": "stream",
     "text": [
      "variable: orbiting_body\n",
      "null value count:  0\n",
      "\n",
      "Unique Value Count: 1\n",
      "['Earth']\n",
      "object\n"
     ]
    }
   ],
   "source": [
    "# Preliminary Check\n",
    "# Variable : orbiting_body\n",
    "# Description : Name by NASA\n",
    "\n",
    "var = 'orbiting_body'\n",
    "\n",
    "print('variable:', var)\n",
    "print('null value count: ', df[var].isnull().sum())\n",
    "print()\n",
    "print('Unique Value Count:', df[var].nunique())\n",
    "print(df[var].unique())\n",
    "print(df[var].dtype)"
   ]
  },
  {
   "cell_type": "code",
   "execution_count": 20,
   "metadata": {},
   "outputs": [
    {
     "name": "stdout",
     "output_type": "stream",
     "text": [
      "variable: sentry_object\n",
      "null value count:  0\n",
      "\n",
      "Unique Value Count: 1\n",
      "[False]\n",
      "bool\n"
     ]
    }
   ],
   "source": [
    "# Preliminary Check\n",
    "# Variable : sentry_object\n",
    "# Description : Name by NASA\n",
    "\n",
    "var = 'sentry_object'\n",
    "\n",
    "print('variable:', var)\n",
    "print('null value count: ', df[var].isnull().sum())\n",
    "print()\n",
    "print('Unique Value Count:', df[var].nunique())\n",
    "print(df[var].unique())\n",
    "print(df[var].dtype)"
   ]
  },
  {
   "cell_type": "markdown",
   "metadata": {},
   "source": [
    "**Univariate Analysis**"
   ]
  },
  {
   "cell_type": "markdown",
   "metadata": {},
   "source": [
    "In this sub-process, we will try to explore boolean features and see the distribution of our target value is \"hazardous\", let's get to know about it more deeply."
   ]
  },
  {
   "cell_type": "code",
   "execution_count": 21,
   "metadata": {},
   "outputs": [
    {
     "name": "stdout",
     "output_type": "stream",
     "text": [
      "False    81996\n",
      "True      8840\n",
      "Name: hazardous, dtype: int64\n",
      "\n",
      "False    90.268176\n",
      "True      9.731824\n",
      "Name: hazardous, dtype: float64\n"
     ]
    }
   ],
   "source": [
    "# Number of unique value\n",
    "print(df['hazardous'].value_counts())\n",
    "print()\n",
    "print(df['hazardous'].value_counts(normalize=True)*100)"
   ]
  },
  {
   "cell_type": "code",
   "execution_count": 41,
   "metadata": {},
   "outputs": [
    {
     "data": {
      "image/png": "[encoded data removed]",
      "text/plain": [
       "<Figure size 360x360 with 1 Axes>"
      ]
     },
     "metadata": {
      "needs_background": "light"
     },
     "output_type": "display_data"
    }
   ],
   "source": [
    "# Distribution Check\n",
    "\n",
    "plt.figure(figsize=(5, 5))\n",
    "ax = sns.countplot(df['hazardous'],  palette=palette )\n",
    "    \n",
    "ax.set_title(\"Distribution of Target\")\n",
    "ax.set_ylim(0, df['hazardous'].value_counts().max()*1.2)\n",
    "# Annot bar\n",
    "for p in ax.patches:\n",
    "    ax.annotate(\n",
    "        format(p.get_height(), '.0f') + \" (\" + format(p.get_height()*100/len(df), '.1f') + \"%)\",\n",
    "        (p.get_x() + p.get_width() / 2., p.get_height()), \n",
    "        ha = 'center',\n",
    "        fontweight = 'semibold',\n",
    "        size = 13,\n",
    "        xytext = (0, +10), \n",
    "        textcoords = 'offset points',\n",
    "        color = 'black'\n",
    "    )\n",
    "plt.tight_layout()\n",
    "\n",
    "plt.show()"
   ]
  },
  {
   "cell_type": "markdown",
   "metadata": {},
   "source": [
    "From this as we can see that our target value has Imbalance data so we will using this for our train model, and we can try Balance data using some technique later."
   ]
  },
  {
   "cell_type": "markdown",
   "metadata": {},
   "source": []
  },
  {
   "cell_type": "markdown",
   "metadata": {},
   "source": [
    "**Diameter of Object in Kilometres**"
   ]
  },
  {
   "cell_type": "code",
   "execution_count": 59,
   "metadata": {},
   "outputs": [
    {
     "data": {
      "text/plain": [
       "<AxesSubplot:xlabel='est_diameter_min', ylabel='est_diameter_max'>"
      ]
     },
     "execution_count": 59,
     "metadata": {},
     "output_type": "execute_result"
    },
    {
     "data": {
      "image/png": "[encoded data removed]",
      "text/plain": [
       "<Figure size 432x288 with 1 Axes>"
      ]
     },
     "metadata": {},
     "output_type": "display_data"
    }
   ],
   "source": [
    "# Check distribution of diameter object\n",
    "sns.scatterplot(x='est_diameter_min', y='est_diameter_max', data=df, palette=palette)"
   ]
  },
  {
   "cell_type": "markdown",
   "metadata": {},
   "source": [
    "As we can see these 2 features that identified minimum and maximum has the same correlation between each others, so maybe we should to merge it with mean value."
   ]
  },
  {
   "cell_type": "code",
   "execution_count": 42,
   "metadata": {},
   "outputs": [
    {
     "data": {
      "text/html": [
       "<div>\n",
       "<style scoped>\n",
       "    .dataframe tbody tr th:only-of-type {\n",
       "        vertical-align: middle;\n",
       "    }\n",
       "\n",
       "    .dataframe tbody tr th {\n",
       "        vertical-align: top;\n",
       "    }\n",
       "\n",
       "    .dataframe thead th {\n",
       "        text-align: right;\n",
       "    }\n",
       "</style>\n",
       "<table border=\"1\" class=\"dataframe\">\n",
       "  <thead>\n",
       "    <tr style=\"text-align: right;\">\n",
       "      <th></th>\n",
       "      <th>id</th>\n",
       "      <th>name</th>\n",
       "      <th>est_diameter_min</th>\n",
       "      <th>est_diameter_max</th>\n",
       "      <th>relative_velocity</th>\n",
       "      <th>miss_distance</th>\n",
       "      <th>orbiting_body</th>\n",
       "      <th>sentry_object</th>\n",
       "      <th>absolute_magnitude</th>\n",
       "      <th>hazardous</th>\n",
       "    </tr>\n",
       "  </thead>\n",
       "  <tbody>\n",
       "    <tr>\n",
       "      <th>0</th>\n",
       "      <td>2162635</td>\n",
       "      <td>162635 (2000 SS164)</td>\n",
       "      <td>1.198271</td>\n",
       "      <td>2.679415</td>\n",
       "      <td>13569.249224</td>\n",
       "      <td>5.483974e+07</td>\n",
       "      <td>Earth</td>\n",
       "      <td>False</td>\n",
       "      <td>16.73</td>\n",
       "      <td>False</td>\n",
       "    </tr>\n",
       "    <tr>\n",
       "      <th>1</th>\n",
       "      <td>2277475</td>\n",
       "      <td>277475 (2005 WK4)</td>\n",
       "      <td>0.265800</td>\n",
       "      <td>0.594347</td>\n",
       "      <td>73588.726663</td>\n",
       "      <td>6.143813e+07</td>\n",
       "      <td>Earth</td>\n",
       "      <td>False</td>\n",
       "      <td>20.00</td>\n",
       "      <td>True</td>\n",
       "    </tr>\n",
       "    <tr>\n",
       "      <th>2</th>\n",
       "      <td>2512244</td>\n",
       "      <td>512244 (2015 YE18)</td>\n",
       "      <td>0.722030</td>\n",
       "      <td>1.614507</td>\n",
       "      <td>114258.692129</td>\n",
       "      <td>4.979872e+07</td>\n",
       "      <td>Earth</td>\n",
       "      <td>False</td>\n",
       "      <td>17.83</td>\n",
       "      <td>False</td>\n",
       "    </tr>\n",
       "    <tr>\n",
       "      <th>3</th>\n",
       "      <td>3596030</td>\n",
       "      <td>(2012 BV13)</td>\n",
       "      <td>0.096506</td>\n",
       "      <td>0.215794</td>\n",
       "      <td>24764.303138</td>\n",
       "      <td>2.543497e+07</td>\n",
       "      <td>Earth</td>\n",
       "      <td>False</td>\n",
       "      <td>22.20</td>\n",
       "      <td>False</td>\n",
       "    </tr>\n",
       "    <tr>\n",
       "      <th>4</th>\n",
       "      <td>3667127</td>\n",
       "      <td>(2014 GE35)</td>\n",
       "      <td>0.255009</td>\n",
       "      <td>0.570217</td>\n",
       "      <td>42737.733765</td>\n",
       "      <td>4.627557e+07</td>\n",
       "      <td>Earth</td>\n",
       "      <td>False</td>\n",
       "      <td>20.09</td>\n",
       "      <td>True</td>\n",
       "    </tr>\n",
       "  </tbody>\n",
       "</table>\n",
       "</div>"
      ],
      "text/plain": [
       "        id                 name  est_diameter_min  est_diameter_max  \\\n",
       "0  2162635  162635 (2000 SS164)          1.198271          2.679415   \n",
       "1  2277475    277475 (2005 WK4)          0.265800          0.594347   \n",
       "2  2512244   512244 (2015 YE18)          0.722030          1.614507   \n",
       "3  3596030          (2012 BV13)          0.096506          0.215794   \n",
       "4  3667127          (2014 GE35)          0.255009          0.570217   \n",
       "\n",
       "   relative_velocity  miss_distance orbiting_body  sentry_object  \\\n",
       "0       13569.249224   5.483974e+07         Earth          False   \n",
       "1       73588.726663   6.143813e+07         Earth          False   \n",
       "2      114258.692129   4.979872e+07         Earth          False   \n",
       "3       24764.303138   2.543497e+07         Earth          False   \n",
       "4       42737.733765   4.627557e+07         Earth          False   \n",
       "\n",
       "   absolute_magnitude  hazardous  \n",
       "0               16.73      False  \n",
       "1               20.00       True  \n",
       "2               17.83      False  \n",
       "3               22.20      False  \n",
       "4               20.09       True  "
      ]
     },
     "execution_count": 42,
     "metadata": {},
     "output_type": "execute_result"
    }
   ],
   "source": [
    "df.head()"
   ]
  },
  {
   "cell_type": "markdown",
   "metadata": {},
   "source": [
    "### Cardinality of Orbiting Body and Sentry Object"
   ]
  },
  {
   "cell_type": "code",
   "execution_count": 55,
   "metadata": {},
   "outputs": [
    {
     "data": {
      "image/png": "[encoded data removed]",
      "text/plain": [
       "<Figure size 432x288 with 1 Axes>"
      ]
     },
     "metadata": {
      "needs_background": "light"
     },
     "output_type": "display_data"
    }
   ],
   "source": [
    "df['orbiting_body'].value_counts().plot(kind='bar', rot=0)\n",
    "plt.show()"
   ]
  },
  {
   "cell_type": "markdown",
   "metadata": {},
   "source": [
    "Since our research is on nearest space objects around earth, it's normal for the orbiting body to be the planet earth itself."
   ]
  },
  {
   "cell_type": "code",
   "execution_count": 56,
   "metadata": {},
   "outputs": [
    {
     "data": {
      "image/png": "[encoded data removed]",
      "text/plain": [
       "<Figure size 432x288 with 1 Axes>"
      ]
     },
     "metadata": {
      "needs_background": "light"
     },
     "output_type": "display_data"
    }
   ],
   "source": [
    "df['sentry_object'].value_counts().plot(kind='bar', rot=0)\n",
    "plt.show()"
   ]
  },
  {
   "cell_type": "markdown",
   "metadata": {},
   "source": [
    "### Velocity and Distance"
   ]
  },
  {
   "cell_type": "code",
   "execution_count": 95,
   "metadata": {},
   "outputs": [],
   "source": [
    "duplicate_objects = df[df.duplicated(subset=['name'], keep=False)]['name'].value_counts().index.to_list()"
   ]
  },
  {
   "cell_type": "code",
   "execution_count": 96,
   "metadata": {},
   "outputs": [
    {
     "data": {
      "image/png": "[encoded data removed]",
      "text/plain": [
       "<Figure size 1800x360 with 5 Axes>"
      ]
     },
     "metadata": {
      "needs_background": "light"
     },
     "output_type": "display_data"
    }
   ],
   "source": [
    "fig, axes = plt.subplots(nrows=1, ncols=5, figsize=(25, 5))\n",
    "for i, object in enumerate(duplicate_objects[:5]):\n",
    "    sns.scatterplot(\n",
    "        data=df[df['name'] == object],\n",
    "        x='relative_velocity',\n",
    "        y='miss_distance',\n",
    "        palette=palette,\n",
    "        ax=axes[i],\n",
    "    )"
   ]
  },
  {
   "cell_type": "markdown",
   "metadata": {},
   "source": [
    "According to the laws of gravity, the velocity of an object is directly proportional to the distance between the object and the center of the universe.\n",
    "\n",
    "Observing our data, we can see the relation between the velocity and the distance for some of the objects."
   ]
  },
  {
   "cell_type": "code",
   "execution_count": null,
   "metadata": {},
   "outputs": [],
   "source": []
  }
 ],
 "metadata": {
  "kernelspec": {
   "display_name": "Python 3.10.5",
   "language": "python",
   "name": "python3"
  },
  "language_info": {
   "codemirror_mode": {
    "name": "ipython",
    "version": 3
   },
   "file_extension": ".py",
   "mimetype": "text/x-python",
   "name": "python",
   "nbconvert_exporter": "python",
   "pygments_lexer": "ipython3",
   "version": "3.10.5"
  },
  "orig_nbformat": 4,
  "vscode": {
   "interpreter": {
    "hash": "e3820e8c26baba8130163ffd183070f3b5ccc55cdec2c67c57fecb06a720dce4"
   }
  }
 },
 "nbformat": 4,
 "nbformat_minor": 2
}
