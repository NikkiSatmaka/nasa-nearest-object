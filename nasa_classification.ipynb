{
 "cells": [
  {
   "cell_type": "markdown",
   "metadata": {},
   "source": [
    "## Introduction"
   ]
  },
  {
   "cell_type": "markdown",
   "metadata": {},
   "source": [
    "**I. Dataset Information**\n",
    "\n",
    "- id : Unique Identifier for each Asteroid\n",
    "- name : Name given by NASA\n",
    "- est_diameter_min : Minimum Estimated Diameter in Kilometres\n",
    "- est_diameter_max : Maximum Estimated Diameter in Kilometres\n",
    "- relative_velocity : Velocity Relative to Earth in Kmph\n",
    "- miss_distance : Distance in Kilometres missed\n",
    "- orbiting_body : Planet that the asteroid orbits\n",
    "- sentry_object : Included in sentry - automated collision monitoring system\n",
    "- absolute_magnitude : Describes intrinsic luminosity\n",
    "\n",
    "**Target Label**\n",
    "- hazardous : Boolean feature that shows whether asteroid is harmful or not"
   ]
  },
  {
   "cell_type": "markdown",
   "metadata": {},
   "source": [
    "## Import Libraries\n"
   ]
  },
  {
   "cell_type": "code",
   "execution_count": 113,
   "metadata": {},
   "outputs": [],
   "source": [
    "# Import Libraries\n",
    "import pandas as pd\n",
    "import numpy as np\n",
    "from datetime import datetime as dt\n",
    "from scipy import stats\n",
    "\n",
    "# Visualization\n",
    "import matplotlib.pyplot as plt\n",
    "import seaborn as sns; sns.set()\n",
    "import plotly.express as px\n",
    "from matplotlib import cm\n",
    "\n",
    "# Data Preprocessing\n",
    "from sklearn.model_selection import train_test_split\n",
    "from feature_engine.outliers import OutlierTrimmer, Winsorizer\n",
    "from sklearn.compose import ColumnTransformer\n",
    "from sklearn.pipeline import Pipeline\n",
    "from sklearn.preprocessing import StandardScaler, MinMaxScaler,OneHotEncoder, OrdinalEncoder, LabelEncoder\n",
    "from imblearn.over_sampling import SMOTE, SMOTENC\n",
    "from imblearn.pipeline import Pipeline as imbPipeline\n",
    "from sklearn.base import BaseEstimator, TransformerMixin\n",
    "\n",
    "# Model\n",
    "from sklearn.linear_model import LogisticRegression\n",
    "from sklearn.ensemble import RandomForestClassifier\n",
    "from sklearn.tree import DecisionTreeClassifier\n",
    "from sklearn.svm import SVC\n",
    "from sklearn.neighbors import KNeighborsClassifier\n",
    "from sklearn.naive_bayes import GaussianNB\n",
    "from xgboost import XGBClassifier\n",
    "from sklearn.model_selection import cross_val_score, GridSearchCV\n",
    "from mlxtend.plotting import plot_confusion_matrix\n",
    "\n",
    "# Metric\n",
    "from sklearn.metrics import classification_report, roc_auc_score, auc, RocCurveDisplay, roc_curve, confusion_matrix, ConfusionMatrixDisplay\n",
    "\n",
    "# Deployment\n",
    "import joblib\n",
    "import pickle\n",
    "\n",
    "from packages.checker import check_unique\n",
    "from packages.checker import check_missing, check_missing_special\n",
    "from packages.outlier_handling import check_outlier, check_dist, outlier_summary, trim_cap_outliers\n",
    "\n",
    "import warnings\n",
    "warnings.filterwarnings(\"ignore\")"
   ]
  },
  {
   "cell_type": "markdown",
   "metadata": {},
   "source": [
    "## Data Loading"
   ]
  },
  {
   "cell_type": "code",
   "execution_count": 22,
   "metadata": {},
   "outputs": [],
   "source": [
    "# Load Data and save it in `df_og` variable\n",
    "df_train_test = pd.read_csv('data/neo_v2.csv')\n",
    "\n",
    "# Make copy from the df\n",
    "df = df_train_test.copy()"
   ]
  },
  {
   "cell_type": "markdown",
   "metadata": {},
   "source": [
    "**Dataset preview**"
   ]
  },
  {
   "cell_type": "code",
   "execution_count": 23,
   "metadata": {},
   "outputs": [
    {
     "data": {
      "text/html": [
       "<div>\n",
       "<style scoped>\n",
       "    .dataframe tbody tr th:only-of-type {\n",
       "        vertical-align: middle;\n",
       "    }\n",
       "\n",
       "    .dataframe tbody tr th {\n",
       "        vertical-align: top;\n",
       "    }\n",
       "\n",
       "    .dataframe thead th {\n",
       "        text-align: right;\n",
       "    }\n",
       "</style>\n",
       "<table border=\"1\" class=\"dataframe\">\n",
       "  <thead>\n",
       "    <tr style=\"text-align: right;\">\n",
       "      <th></th>\n",
       "      <th>id</th>\n",
       "      <th>name</th>\n",
       "      <th>est_diameter_min</th>\n",
       "      <th>est_diameter_max</th>\n",
       "      <th>relative_velocity</th>\n",
       "      <th>miss_distance</th>\n",
       "      <th>orbiting_body</th>\n",
       "      <th>sentry_object</th>\n",
       "      <th>absolute_magnitude</th>\n",
       "      <th>hazardous</th>\n",
       "    </tr>\n",
       "  </thead>\n",
       "  <tbody>\n",
       "    <tr>\n",
       "      <th>0</th>\n",
       "      <td>2162635</td>\n",
       "      <td>162635 (2000 SS164)</td>\n",
       "      <td>1.198271</td>\n",
       "      <td>2.679415</td>\n",
       "      <td>13569.249224</td>\n",
       "      <td>5.483974e+07</td>\n",
       "      <td>Earth</td>\n",
       "      <td>False</td>\n",
       "      <td>16.73</td>\n",
       "      <td>False</td>\n",
       "    </tr>\n",
       "    <tr>\n",
       "      <th>1</th>\n",
       "      <td>2277475</td>\n",
       "      <td>277475 (2005 WK4)</td>\n",
       "      <td>0.265800</td>\n",
       "      <td>0.594347</td>\n",
       "      <td>73588.726663</td>\n",
       "      <td>6.143813e+07</td>\n",
       "      <td>Earth</td>\n",
       "      <td>False</td>\n",
       "      <td>20.00</td>\n",
       "      <td>True</td>\n",
       "    </tr>\n",
       "    <tr>\n",
       "      <th>2</th>\n",
       "      <td>2512244</td>\n",
       "      <td>512244 (2015 YE18)</td>\n",
       "      <td>0.722030</td>\n",
       "      <td>1.614507</td>\n",
       "      <td>114258.692129</td>\n",
       "      <td>4.979872e+07</td>\n",
       "      <td>Earth</td>\n",
       "      <td>False</td>\n",
       "      <td>17.83</td>\n",
       "      <td>False</td>\n",
       "    </tr>\n",
       "    <tr>\n",
       "      <th>3</th>\n",
       "      <td>3596030</td>\n",
       "      <td>(2012 BV13)</td>\n",
       "      <td>0.096506</td>\n",
       "      <td>0.215794</td>\n",
       "      <td>24764.303138</td>\n",
       "      <td>2.543497e+07</td>\n",
       "      <td>Earth</td>\n",
       "      <td>False</td>\n",
       "      <td>22.20</td>\n",
       "      <td>False</td>\n",
       "    </tr>\n",
       "    <tr>\n",
       "      <th>4</th>\n",
       "      <td>3667127</td>\n",
       "      <td>(2014 GE35)</td>\n",
       "      <td>0.255009</td>\n",
       "      <td>0.570217</td>\n",
       "      <td>42737.733765</td>\n",
       "      <td>4.627557e+07</td>\n",
       "      <td>Earth</td>\n",
       "      <td>False</td>\n",
       "      <td>20.09</td>\n",
       "      <td>True</td>\n",
       "    </tr>\n",
       "  </tbody>\n",
       "</table>\n",
       "</div>"
      ],
      "text/plain": [
       "        id                 name  est_diameter_min  est_diameter_max  \\\n",
       "0  2162635  162635 (2000 SS164)          1.198271          2.679415   \n",
       "1  2277475    277475 (2005 WK4)          0.265800          0.594347   \n",
       "2  2512244   512244 (2015 YE18)          0.722030          1.614507   \n",
       "3  3596030          (2012 BV13)          0.096506          0.215794   \n",
       "4  3667127          (2014 GE35)          0.255009          0.570217   \n",
       "\n",
       "   relative_velocity  miss_distance orbiting_body  sentry_object  \\\n",
       "0       13569.249224   5.483974e+07         Earth          False   \n",
       "1       73588.726663   6.143813e+07         Earth          False   \n",
       "2      114258.692129   4.979872e+07         Earth          False   \n",
       "3       24764.303138   2.543497e+07         Earth          False   \n",
       "4       42737.733765   4.627557e+07         Earth          False   \n",
       "\n",
       "   absolute_magnitude  hazardous  \n",
       "0               16.73      False  \n",
       "1               20.00       True  \n",
       "2               17.83      False  \n",
       "3               22.20      False  \n",
       "4               20.09       True  "
      ]
     },
     "execution_count": 23,
     "metadata": {},
     "output_type": "execute_result"
    }
   ],
   "source": [
    "# Show the Dataset\n",
    "pd.set_option('display.max_columns', None)\n",
    "df.head()"
   ]
  },
  {
   "cell_type": "code",
   "execution_count": 24,
   "metadata": {},
   "outputs": [
    {
     "data": {
      "text/html": [
       "<div>\n",
       "<style scoped>\n",
       "    .dataframe tbody tr th:only-of-type {\n",
       "        vertical-align: middle;\n",
       "    }\n",
       "\n",
       "    .dataframe tbody tr th {\n",
       "        vertical-align: top;\n",
       "    }\n",
       "\n",
       "    .dataframe thead th {\n",
       "        text-align: right;\n",
       "    }\n",
       "</style>\n",
       "<table border=\"1\" class=\"dataframe\">\n",
       "  <thead>\n",
       "    <tr style=\"text-align: right;\">\n",
       "      <th></th>\n",
       "      <th>id</th>\n",
       "      <th>name</th>\n",
       "      <th>est_diameter_min</th>\n",
       "      <th>est_diameter_max</th>\n",
       "      <th>relative_velocity</th>\n",
       "      <th>miss_distance</th>\n",
       "      <th>orbiting_body</th>\n",
       "      <th>sentry_object</th>\n",
       "      <th>absolute_magnitude</th>\n",
       "      <th>hazardous</th>\n",
       "    </tr>\n",
       "  </thead>\n",
       "  <tbody>\n",
       "    <tr>\n",
       "      <th>90831</th>\n",
       "      <td>3763337</td>\n",
       "      <td>(2016 VX1)</td>\n",
       "      <td>0.026580</td>\n",
       "      <td>0.059435</td>\n",
       "      <td>52078.886692</td>\n",
       "      <td>1.230039e+07</td>\n",
       "      <td>Earth</td>\n",
       "      <td>False</td>\n",
       "      <td>25.00</td>\n",
       "      <td>False</td>\n",
       "    </tr>\n",
       "    <tr>\n",
       "      <th>90832</th>\n",
       "      <td>3837603</td>\n",
       "      <td>(2019 AD3)</td>\n",
       "      <td>0.016771</td>\n",
       "      <td>0.037501</td>\n",
       "      <td>46114.605073</td>\n",
       "      <td>5.432121e+07</td>\n",
       "      <td>Earth</td>\n",
       "      <td>False</td>\n",
       "      <td>26.00</td>\n",
       "      <td>False</td>\n",
       "    </tr>\n",
       "    <tr>\n",
       "      <th>90833</th>\n",
       "      <td>54017201</td>\n",
       "      <td>(2020 JP3)</td>\n",
       "      <td>0.031956</td>\n",
       "      <td>0.071456</td>\n",
       "      <td>7566.807732</td>\n",
       "      <td>2.840077e+07</td>\n",
       "      <td>Earth</td>\n",
       "      <td>False</td>\n",
       "      <td>24.60</td>\n",
       "      <td>False</td>\n",
       "    </tr>\n",
       "    <tr>\n",
       "      <th>90834</th>\n",
       "      <td>54115824</td>\n",
       "      <td>(2021 CN5)</td>\n",
       "      <td>0.007321</td>\n",
       "      <td>0.016370</td>\n",
       "      <td>69199.154484</td>\n",
       "      <td>6.869206e+07</td>\n",
       "      <td>Earth</td>\n",
       "      <td>False</td>\n",
       "      <td>27.80</td>\n",
       "      <td>False</td>\n",
       "    </tr>\n",
       "    <tr>\n",
       "      <th>90835</th>\n",
       "      <td>54205447</td>\n",
       "      <td>(2021 TW7)</td>\n",
       "      <td>0.039862</td>\n",
       "      <td>0.089133</td>\n",
       "      <td>27024.455553</td>\n",
       "      <td>5.977213e+07</td>\n",
       "      <td>Earth</td>\n",
       "      <td>False</td>\n",
       "      <td>24.12</td>\n",
       "      <td>False</td>\n",
       "    </tr>\n",
       "  </tbody>\n",
       "</table>\n",
       "</div>"
      ],
      "text/plain": [
       "             id        name  est_diameter_min  est_diameter_max  \\\n",
       "90831   3763337  (2016 VX1)          0.026580          0.059435   \n",
       "90832   3837603  (2019 AD3)          0.016771          0.037501   \n",
       "90833  54017201  (2020 JP3)          0.031956          0.071456   \n",
       "90834  54115824  (2021 CN5)          0.007321          0.016370   \n",
       "90835  54205447  (2021 TW7)          0.039862          0.089133   \n",
       "\n",
       "       relative_velocity  miss_distance orbiting_body  sentry_object  \\\n",
       "90831       52078.886692   1.230039e+07         Earth          False   \n",
       "90832       46114.605073   5.432121e+07         Earth          False   \n",
       "90833        7566.807732   2.840077e+07         Earth          False   \n",
       "90834       69199.154484   6.869206e+07         Earth          False   \n",
       "90835       27024.455553   5.977213e+07         Earth          False   \n",
       "\n",
       "       absolute_magnitude  hazardous  \n",
       "90831               25.00      False  \n",
       "90832               26.00      False  \n",
       "90833               24.60      False  \n",
       "90834               27.80      False  \n",
       "90835               24.12      False  "
      ]
     },
     "execution_count": 24,
     "metadata": {},
     "output_type": "execute_result"
    }
   ],
   "source": [
    "df.tail()"
   ]
  },
  {
   "cell_type": "code",
   "execution_count": 25,
   "metadata": {},
   "outputs": [
    {
     "data": {
      "text/plain": [
       "(90836, 10)"
      ]
     },
     "execution_count": 25,
     "metadata": {},
     "output_type": "execute_result"
    }
   ],
   "source": [
    "# Dataset shape \n",
    "df.shape"
   ]
  },
  {
   "cell_type": "code",
   "execution_count": 26,
   "metadata": {},
   "outputs": [
    {
     "name": "stdout",
     "output_type": "stream",
     "text": [
      "<class 'pandas.core.frame.DataFrame'>\n",
      "RangeIndex: 90836 entries, 0 to 90835\n",
      "Data columns (total 10 columns):\n",
      " #   Column              Non-Null Count  Dtype  \n",
      "---  ------              --------------  -----  \n",
      " 0   id                  90836 non-null  int64  \n",
      " 1   name                90836 non-null  object \n",
      " 2   est_diameter_min    90836 non-null  float64\n",
      " 3   est_diameter_max    90836 non-null  float64\n",
      " 4   relative_velocity   90836 non-null  float64\n",
      " 5   miss_distance       90836 non-null  float64\n",
      " 6   orbiting_body       90836 non-null  object \n",
      " 7   sentry_object       90836 non-null  bool   \n",
      " 8   absolute_magnitude  90836 non-null  float64\n",
      " 9   hazardous           90836 non-null  bool   \n",
      "dtypes: bool(2), float64(5), int64(1), object(2)\n",
      "memory usage: 5.7+ MB\n"
     ]
    }
   ],
   "source": [
    "# Dataset Info\n",
    "df.info()"
   ]
  },
  {
   "cell_type": "code",
   "execution_count": 27,
   "metadata": {},
   "outputs": [
    {
     "data": {
      "text/plain": [
       "id                    0\n",
       "name                  0\n",
       "est_diameter_min      0\n",
       "est_diameter_max      0\n",
       "relative_velocity     0\n",
       "miss_distance         0\n",
       "orbiting_body         0\n",
       "sentry_object         0\n",
       "absolute_magnitude    0\n",
       "hazardous             0\n",
       "dtype: int64"
      ]
     },
     "execution_count": 27,
     "metadata": {},
     "output_type": "execute_result"
    }
   ],
   "source": [
    "# Null value summary\n",
    "df.isnull().sum().sort_values()"
   ]
  },
  {
   "cell_type": "code",
   "execution_count": 28,
   "metadata": {},
   "outputs": [
    {
     "data": {
      "text/html": [
       "<div>\n",
       "<style scoped>\n",
       "    .dataframe tbody tr th:only-of-type {\n",
       "        vertical-align: middle;\n",
       "    }\n",
       "\n",
       "    .dataframe tbody tr th {\n",
       "        vertical-align: top;\n",
       "    }\n",
       "\n",
       "    .dataframe thead th {\n",
       "        text-align: right;\n",
       "    }\n",
       "</style>\n",
       "<table border=\"1\" class=\"dataframe\">\n",
       "  <thead>\n",
       "    <tr style=\"text-align: right;\">\n",
       "      <th></th>\n",
       "      <th>feats</th>\n",
       "      <th>num_unique</th>\n",
       "      <th>pct_unique</th>\n",
       "    </tr>\n",
       "  </thead>\n",
       "  <tbody>\n",
       "    <tr>\n",
       "      <th>0</th>\n",
       "      <td>id</td>\n",
       "      <td>27423</td>\n",
       "      <td>30.189572</td>\n",
       "    </tr>\n",
       "    <tr>\n",
       "      <th>1</th>\n",
       "      <td>name</td>\n",
       "      <td>27423</td>\n",
       "      <td>30.189572</td>\n",
       "    </tr>\n",
       "    <tr>\n",
       "      <th>2</th>\n",
       "      <td>est_diameter_min</td>\n",
       "      <td>1638</td>\n",
       "      <td>1.803250</td>\n",
       "    </tr>\n",
       "    <tr>\n",
       "      <th>3</th>\n",
       "      <td>est_diameter_max</td>\n",
       "      <td>1638</td>\n",
       "      <td>1.803250</td>\n",
       "    </tr>\n",
       "    <tr>\n",
       "      <th>4</th>\n",
       "      <td>relative_velocity</td>\n",
       "      <td>90828</td>\n",
       "      <td>99.991193</td>\n",
       "    </tr>\n",
       "    <tr>\n",
       "      <th>5</th>\n",
       "      <td>miss_distance</td>\n",
       "      <td>90536</td>\n",
       "      <td>99.669734</td>\n",
       "    </tr>\n",
       "    <tr>\n",
       "      <th>6</th>\n",
       "      <td>orbiting_body</td>\n",
       "      <td>1</td>\n",
       "      <td>0.001101</td>\n",
       "    </tr>\n",
       "    <tr>\n",
       "      <th>7</th>\n",
       "      <td>absolute_magnitude</td>\n",
       "      <td>1638</td>\n",
       "      <td>1.803250</td>\n",
       "    </tr>\n",
       "  </tbody>\n",
       "</table>\n",
       "</div>"
      ],
      "text/plain": [
       "                feats  num_unique  pct_unique\n",
       "0                  id       27423   30.189572\n",
       "1                name       27423   30.189572\n",
       "2    est_diameter_min        1638    1.803250\n",
       "3    est_diameter_max        1638    1.803250\n",
       "4   relative_velocity       90828   99.991193\n",
       "5       miss_distance       90536   99.669734\n",
       "6       orbiting_body           1    0.001101\n",
       "7  absolute_magnitude        1638    1.803250"
      ]
     },
     "execution_count": 28,
     "metadata": {},
     "output_type": "execute_result"
    }
   ],
   "source": [
    "check_unique(df)"
   ]
  },
  {
   "cell_type": "markdown",
   "metadata": {},
   "source": [
    "### Cardinality of Orbiting Body and Sentry Object"
   ]
  },
  {
   "cell_type": "code",
   "execution_count": 29,
   "metadata": {},
   "outputs": [
    {
     "name": "stdout",
     "output_type": "stream",
     "text": [
      "Nominal and ordinal features cardinality:\n",
      "orbiting_body : 1 unique values \n",
      " ['Earth']\n",
      "----------------------------------------------------------------------------------------------------\n",
      "sentry_object : 1 unique values \n",
      " [False]\n",
      "----------------------------------------------------------------------------------------------------\n",
      "hazardous : 2 unique values \n",
      " [False  True]\n",
      "----------------------------------------------------------------------------------------------------\n"
     ]
    }
   ],
   "source": [
    "# check the cardinality of each nominal and ordinal features\n",
    "print(\"Nominal and ordinal features cardinality:\")\n",
    "for col in df.columns:\n",
    "    if df[col].nunique() < 20:\n",
    "        print(col, ':', df[col].nunique(), 'unique values \\n', np.sort(df[col].unique()))\n",
    "        print('-' * 100)"
   ]
  },
  {
   "cell_type": "markdown",
   "metadata": {},
   "source": [
    "Since our research is on nearest space objects around earth, it's normal for the orbiting body to be the planet earth itself.\n",
    "\n",
    "All the objects are not sentry objects.\n",
    "\n",
    "Since these two features only have one unique value, we can drop them."
   ]
  },
  {
   "cell_type": "code",
   "execution_count": 30,
   "metadata": {},
   "outputs": [],
   "source": [
    "# drop the columns with only one unique values\n",
    "df = df.drop(columns=['orbiting_body', 'sentry_object'])"
   ]
  },
  {
   "cell_type": "code",
   "execution_count": 31,
   "metadata": {},
   "outputs": [],
   "source": [
    "# dropping 'id' column\n",
    "df = df.drop(columns=['id'])"
   ]
  },
  {
   "cell_type": "code",
   "execution_count": 32,
   "metadata": {},
   "outputs": [
    {
     "data": {
      "text/plain": [
       "469219 Kamo`oalewa (2016 HO3)    42\n",
       "277810 (2006 FV35)               42\n",
       "(2016 CA138)                     39\n",
       "138175 (2000 EE104)              38\n",
       "(2019 XS)                        37\n",
       "                                 ..\n",
       "(2019 HL4)                        1\n",
       "(2010 UE51)                       1\n",
       "(2007 VC138)                      1\n",
       "(2014 KE39)                       1\n",
       "(2018 BN3)                        1\n",
       "Name: name, Length: 15902, dtype: int64"
      ]
     },
     "execution_count": 32,
     "metadata": {},
     "output_type": "execute_result"
    }
   ],
   "source": [
    "# check duplicate values in dataset\n",
    "df[df.duplicated(subset=['name'])].name.value_counts()"
   ]
  },
  {
   "cell_type": "code",
   "execution_count": 33,
   "metadata": {},
   "outputs": [
    {
     "data": {
      "text/html": [
       "<div>\n",
       "<style scoped>\n",
       "    .dataframe tbody tr th:only-of-type {\n",
       "        vertical-align: middle;\n",
       "    }\n",
       "\n",
       "    .dataframe tbody tr th {\n",
       "        vertical-align: top;\n",
       "    }\n",
       "\n",
       "    .dataframe thead th {\n",
       "        text-align: right;\n",
       "    }\n",
       "</style>\n",
       "<table border=\"1\" class=\"dataframe\">\n",
       "  <thead>\n",
       "    <tr style=\"text-align: right;\">\n",
       "      <th></th>\n",
       "      <th>name</th>\n",
       "      <th>est_diameter_min</th>\n",
       "      <th>est_diameter_max</th>\n",
       "      <th>relative_velocity</th>\n",
       "      <th>miss_distance</th>\n",
       "      <th>absolute_magnitude</th>\n",
       "      <th>hazardous</th>\n",
       "    </tr>\n",
       "  </thead>\n",
       "  <tbody>\n",
       "    <tr>\n",
       "      <th>912</th>\n",
       "      <td>469219 Kamo`oalewa (2016 HO3)</td>\n",
       "      <td>0.036187</td>\n",
       "      <td>0.080917</td>\n",
       "      <td>15334.830488</td>\n",
       "      <td>2.105350e+07</td>\n",
       "      <td>24.33</td>\n",
       "      <td>False</td>\n",
       "    </tr>\n",
       "    <tr>\n",
       "      <th>2169</th>\n",
       "      <td>469219 Kamo`oalewa (2016 HO3)</td>\n",
       "      <td>0.036187</td>\n",
       "      <td>0.080917</td>\n",
       "      <td>15860.941084</td>\n",
       "      <td>2.297678e+07</td>\n",
       "      <td>24.33</td>\n",
       "      <td>False</td>\n",
       "    </tr>\n",
       "    <tr>\n",
       "      <th>3972</th>\n",
       "      <td>469219 Kamo`oalewa (2016 HO3)</td>\n",
       "      <td>0.036187</td>\n",
       "      <td>0.080917</td>\n",
       "      <td>15382.529101</td>\n",
       "      <td>2.032125e+07</td>\n",
       "      <td>24.33</td>\n",
       "      <td>False</td>\n",
       "    </tr>\n",
       "    <tr>\n",
       "      <th>5128</th>\n",
       "      <td>469219 Kamo`oalewa (2016 HO3)</td>\n",
       "      <td>0.036187</td>\n",
       "      <td>0.080917</td>\n",
       "      <td>15285.830876</td>\n",
       "      <td>2.345715e+07</td>\n",
       "      <td>24.33</td>\n",
       "      <td>False</td>\n",
       "    </tr>\n",
       "    <tr>\n",
       "      <th>6988</th>\n",
       "      <td>469219 Kamo`oalewa (2016 HO3)</td>\n",
       "      <td>0.036187</td>\n",
       "      <td>0.080917</td>\n",
       "      <td>15464.296154</td>\n",
       "      <td>1.954735e+07</td>\n",
       "      <td>24.33</td>\n",
       "      <td>False</td>\n",
       "    </tr>\n",
       "    <tr>\n",
       "      <th>8091</th>\n",
       "      <td>469219 Kamo`oalewa (2016 HO3)</td>\n",
       "      <td>0.036187</td>\n",
       "      <td>0.080917</td>\n",
       "      <td>14629.980565</td>\n",
       "      <td>2.383909e+07</td>\n",
       "      <td>24.33</td>\n",
       "      <td>False</td>\n",
       "    </tr>\n",
       "    <tr>\n",
       "      <th>10081</th>\n",
       "      <td>469219 Kamo`oalewa (2016 HO3)</td>\n",
       "      <td>0.036187</td>\n",
       "      <td>0.080917</td>\n",
       "      <td>15445.978808</td>\n",
       "      <td>1.880784e+07</td>\n",
       "      <td>24.33</td>\n",
       "      <td>False</td>\n",
       "    </tr>\n",
       "    <tr>\n",
       "      <th>11183</th>\n",
       "      <td>469219 Kamo`oalewa (2016 HO3)</td>\n",
       "      <td>0.036187</td>\n",
       "      <td>0.080917</td>\n",
       "      <td>13963.527790</td>\n",
       "      <td>2.409758e+07</td>\n",
       "      <td>24.33</td>\n",
       "      <td>False</td>\n",
       "    </tr>\n",
       "    <tr>\n",
       "      <th>13252</th>\n",
       "      <td>469219 Kamo`oalewa (2016 HO3)</td>\n",
       "      <td>0.036187</td>\n",
       "      <td>0.080917</td>\n",
       "      <td>15495.759121</td>\n",
       "      <td>1.812412e+07</td>\n",
       "      <td>24.33</td>\n",
       "      <td>False</td>\n",
       "    </tr>\n",
       "    <tr>\n",
       "      <th>14401</th>\n",
       "      <td>469219 Kamo`oalewa (2016 HO3)</td>\n",
       "      <td>0.036187</td>\n",
       "      <td>0.080917</td>\n",
       "      <td>13260.624583</td>\n",
       "      <td>2.424962e+07</td>\n",
       "      <td>24.33</td>\n",
       "      <td>False</td>\n",
       "    </tr>\n",
       "  </tbody>\n",
       "</table>\n",
       "</div>"
      ],
      "text/plain": [
       "                                name  est_diameter_min  est_diameter_max  \\\n",
       "912    469219 Kamo`oalewa (2016 HO3)          0.036187          0.080917   \n",
       "2169   469219 Kamo`oalewa (2016 HO3)          0.036187          0.080917   \n",
       "3972   469219 Kamo`oalewa (2016 HO3)          0.036187          0.080917   \n",
       "5128   469219 Kamo`oalewa (2016 HO3)          0.036187          0.080917   \n",
       "6988   469219 Kamo`oalewa (2016 HO3)          0.036187          0.080917   \n",
       "8091   469219 Kamo`oalewa (2016 HO3)          0.036187          0.080917   \n",
       "10081  469219 Kamo`oalewa (2016 HO3)          0.036187          0.080917   \n",
       "11183  469219 Kamo`oalewa (2016 HO3)          0.036187          0.080917   \n",
       "13252  469219 Kamo`oalewa (2016 HO3)          0.036187          0.080917   \n",
       "14401  469219 Kamo`oalewa (2016 HO3)          0.036187          0.080917   \n",
       "\n",
       "       relative_velocity  miss_distance  absolute_magnitude  hazardous  \n",
       "912         15334.830488   2.105350e+07               24.33      False  \n",
       "2169        15860.941084   2.297678e+07               24.33      False  \n",
       "3972        15382.529101   2.032125e+07               24.33      False  \n",
       "5128        15285.830876   2.345715e+07               24.33      False  \n",
       "6988        15464.296154   1.954735e+07               24.33      False  \n",
       "8091        14629.980565   2.383909e+07               24.33      False  \n",
       "10081       15445.978808   1.880784e+07               24.33      False  \n",
       "11183       13963.527790   2.409758e+07               24.33      False  \n",
       "13252       15495.759121   1.812412e+07               24.33      False  \n",
       "14401       13260.624583   2.424962e+07               24.33      False  "
      ]
     },
     "execution_count": 33,
     "metadata": {},
     "output_type": "execute_result"
    }
   ],
   "source": [
    "df[df.name == '469219 Kamo`oalewa (2016 HO3)'].head(10)"
   ]
  },
  {
   "cell_type": "code",
   "execution_count": 34,
   "metadata": {},
   "outputs": [
    {
     "data": {
      "text/html": [
       "<div>\n",
       "<style scoped>\n",
       "    .dataframe tbody tr th:only-of-type {\n",
       "        vertical-align: middle;\n",
       "    }\n",
       "\n",
       "    .dataframe tbody tr th {\n",
       "        vertical-align: top;\n",
       "    }\n",
       "\n",
       "    .dataframe thead th {\n",
       "        text-align: right;\n",
       "    }\n",
       "</style>\n",
       "<table border=\"1\" class=\"dataframe\">\n",
       "  <thead>\n",
       "    <tr style=\"text-align: right;\">\n",
       "      <th></th>\n",
       "      <th>count</th>\n",
       "      <th>mean</th>\n",
       "      <th>std</th>\n",
       "      <th>min</th>\n",
       "      <th>50%</th>\n",
       "      <th>max</th>\n",
       "    </tr>\n",
       "  </thead>\n",
       "  <tbody>\n",
       "    <tr>\n",
       "      <th>est_diameter_min</th>\n",
       "      <td>90836.0</td>\n",
       "      <td>0.0</td>\n",
       "      <td>0.0</td>\n",
       "      <td>0.0</td>\n",
       "      <td>0.0</td>\n",
       "      <td>38.0</td>\n",
       "    </tr>\n",
       "    <tr>\n",
       "      <th>est_diameter_max</th>\n",
       "      <td>90836.0</td>\n",
       "      <td>0.0</td>\n",
       "      <td>1.0</td>\n",
       "      <td>0.0</td>\n",
       "      <td>0.0</td>\n",
       "      <td>85.0</td>\n",
       "    </tr>\n",
       "    <tr>\n",
       "      <th>relative_velocity</th>\n",
       "      <td>90836.0</td>\n",
       "      <td>48067.0</td>\n",
       "      <td>25293.0</td>\n",
       "      <td>203.0</td>\n",
       "      <td>44190.0</td>\n",
       "      <td>236990.0</td>\n",
       "    </tr>\n",
       "    <tr>\n",
       "      <th>miss_distance</th>\n",
       "      <td>90836.0</td>\n",
       "      <td>37066546.0</td>\n",
       "      <td>22352041.0</td>\n",
       "      <td>6746.0</td>\n",
       "      <td>37846579.0</td>\n",
       "      <td>74798651.0</td>\n",
       "    </tr>\n",
       "    <tr>\n",
       "      <th>absolute_magnitude</th>\n",
       "      <td>90836.0</td>\n",
       "      <td>24.0</td>\n",
       "      <td>3.0</td>\n",
       "      <td>9.0</td>\n",
       "      <td>24.0</td>\n",
       "      <td>33.0</td>\n",
       "    </tr>\n",
       "  </tbody>\n",
       "</table>\n",
       "</div>"
      ],
      "text/plain": [
       "                      count        mean         std     min         50%  \\\n",
       "est_diameter_min    90836.0         0.0         0.0     0.0         0.0   \n",
       "est_diameter_max    90836.0         0.0         1.0     0.0         0.0   \n",
       "relative_velocity   90836.0     48067.0     25293.0   203.0     44190.0   \n",
       "miss_distance       90836.0  37066546.0  22352041.0  6746.0  37846579.0   \n",
       "absolute_magnitude  90836.0        24.0         3.0     9.0        24.0   \n",
       "\n",
       "                           max  \n",
       "est_diameter_min          38.0  \n",
       "est_diameter_max          85.0  \n",
       "relative_velocity     236990.0  \n",
       "miss_distance       74798651.0  \n",
       "absolute_magnitude        33.0  "
      ]
     },
     "execution_count": 34,
     "metadata": {},
     "output_type": "execute_result"
    }
   ],
   "source": [
    "# Dataset Check\n",
    "df.describe(percentiles=[0.5]).round().T"
   ]
  },
  {
   "cell_type": "code",
   "execution_count": 35,
   "metadata": {},
   "outputs": [
    {
     "data": {
      "text/html": [
       "<div>\n",
       "<style scoped>\n",
       "    .dataframe tbody tr th:only-of-type {\n",
       "        vertical-align: middle;\n",
       "    }\n",
       "\n",
       "    .dataframe tbody tr th {\n",
       "        vertical-align: top;\n",
       "    }\n",
       "\n",
       "    .dataframe thead th {\n",
       "        text-align: right;\n",
       "    }\n",
       "</style>\n",
       "<table border=\"1\" class=\"dataframe\">\n",
       "  <thead>\n",
       "    <tr style=\"text-align: right;\">\n",
       "      <th></th>\n",
       "      <th>count</th>\n",
       "      <th>unique</th>\n",
       "      <th>top</th>\n",
       "      <th>freq</th>\n",
       "    </tr>\n",
       "  </thead>\n",
       "  <tbody>\n",
       "    <tr>\n",
       "      <th>name</th>\n",
       "      <td>90836</td>\n",
       "      <td>27423</td>\n",
       "      <td>469219 Kamo`oalewa (2016 HO3)</td>\n",
       "      <td>43</td>\n",
       "    </tr>\n",
       "  </tbody>\n",
       "</table>\n",
       "</div>"
      ],
      "text/plain": [
       "      count unique                            top freq\n",
       "name  90836  27423  469219 Kamo`oalewa (2016 HO3)   43"
      ]
     },
     "execution_count": 35,
     "metadata": {},
     "output_type": "execute_result"
    }
   ],
   "source": [
    "# Dataset Check\n",
    "df.describe(include=object).T"
   ]
  },
  {
   "cell_type": "markdown",
   "metadata": {},
   "source": [
    "Insight of Dataset Preview process:\n",
    "\n",
    "Based on above process, i get these following information:\n",
    "- The dataset consist of 90836 rows of entries and 10 columns.\n",
    "- The dataset are 5 features float type, 2 features of object type, 1 feature of integer type and 2 features of boolean type.\n",
    "- There are no any missing value on this dataset.\n",
    "- There are some duplicates value but we gonna explore them more later."
   ]
  },
  {
   "cell_type": "markdown",
   "metadata": {},
   "source": [
    "---\n",
    "\n",
    "## Exploratory Data Analysis"
   ]
  },
  {
   "cell_type": "markdown",
   "metadata": {},
   "source": [
    "**Preset**"
   ]
  },
  {
   "cell_type": "code",
   "execution_count": 36,
   "metadata": {},
   "outputs": [],
   "source": [
    "# Create preset palette\n",
    "palette = {False : '#014F9D', True : '#DB0707'}"
   ]
  },
  {
   "cell_type": "markdown",
   "metadata": {},
   "source": [
    "**Preliminary Check**"
   ]
  },
  {
   "cell_type": "code",
   "execution_count": 37,
   "metadata": {},
   "outputs": [
    {
     "name": "stdout",
     "output_type": "stream",
     "text": [
      "variable: est_diameter_min\n",
      "null value count:  0\n",
      "\n",
      "Descriptive stats:\n",
      "count    90836.000000\n",
      "mean         0.127432\n",
      "std          0.298511\n",
      "min          0.000609\n",
      "25%          0.019256\n",
      "50%          0.048368\n",
      "75%          0.143402\n",
      "max         37.892650\n",
      "Name: est_diameter_min, dtype: float64\n"
     ]
    }
   ],
   "source": [
    "# Preliminary Check\n",
    "# Variable : est_diameter_min\n",
    "# Description : Minimum Estimated Diameter in Kilometres\n",
    "\n",
    "var = 'est_diameter_min'\n",
    "\n",
    "print('variable:', var)\n",
    "print('null value count: ', df[var].isnull().sum())\n",
    "print()\n",
    "print('Descriptive stats:')\n",
    "print(df[var].describe())"
   ]
  },
  {
   "cell_type": "code",
   "execution_count": 38,
   "metadata": {},
   "outputs": [
    {
     "name": "stdout",
     "output_type": "stream",
     "text": [
      "variable: est_diameter_max\n",
      "null value count:  0\n",
      "\n",
      "Descriptive stats:\n",
      "count    90836.000000\n",
      "mean         0.284947\n",
      "std          0.667491\n",
      "min          0.001362\n",
      "25%          0.043057\n",
      "50%          0.108153\n",
      "75%          0.320656\n",
      "max         84.730541\n",
      "Name: est_diameter_max, dtype: float64\n"
     ]
    }
   ],
   "source": [
    "# Preliminary Check\n",
    "# Variable : est_diameter_max\n",
    "# Description : Maximum Estimated Diameter in Kilometres\n",
    "\n",
    "var = 'est_diameter_max'\n",
    "\n",
    "print('variable:', var)\n",
    "print('null value count: ', df[var].isnull().sum())\n",
    "print()\n",
    "print('Descriptive stats:')\n",
    "print(df[var].describe())"
   ]
  },
  {
   "cell_type": "markdown",
   "metadata": {},
   "source": [
    "In this two features we can see has the same definition, we need to check it later, what we are going to do to this features."
   ]
  },
  {
   "cell_type": "code",
   "execution_count": 39,
   "metadata": {},
   "outputs": [
    {
     "name": "stdout",
     "output_type": "stream",
     "text": [
      "variable: relative_velocity\n",
      "null value count:  0\n",
      "\n",
      "Descriptive stats:\n",
      "count     90836.000000\n",
      "mean      48066.918918\n",
      "std       25293.296961\n",
      "min         203.346433\n",
      "25%       28619.020645\n",
      "50%       44190.117890\n",
      "75%       62923.604633\n",
      "max      236990.128088\n",
      "Name: relative_velocity, dtype: float64\n"
     ]
    }
   ],
   "source": [
    "# Preliminary Check\n",
    "# Variable : relative_velocity\n",
    "# Description : Velocity Relative to Earth in Kmph\n",
    "\n",
    "var = 'relative_velocity'\n",
    "\n",
    "print('variable:', var)\n",
    "print('null value count: ', df[var].isnull().sum())\n",
    "print()\n",
    "print('Descriptive stats:')\n",
    "print(df[var].describe())"
   ]
  },
  {
   "cell_type": "markdown",
   "metadata": {},
   "source": [
    "Looks like relative_velocity is already match with the columns description, so we can use it."
   ]
  },
  {
   "cell_type": "code",
   "execution_count": 40,
   "metadata": {},
   "outputs": [
    {
     "name": "stdout",
     "output_type": "stream",
     "text": [
      "variable: miss_distance\n",
      "null value count:  0\n",
      "\n",
      "Descriptive stats:\n",
      "count    9.083600e+04\n",
      "mean     3.706655e+07\n",
      "std      2.235204e+07\n",
      "min      6.745533e+03\n",
      "25%      1.721082e+07\n",
      "50%      3.784658e+07\n",
      "75%      5.654900e+07\n",
      "max      7.479865e+07\n",
      "Name: miss_distance, dtype: float64\n"
     ]
    }
   ],
   "source": [
    "# Preliminary Check\n",
    "# Variable : miss_distance\n",
    "# Description : Distance in Kilometres missed\n",
    "\n",
    "var = 'miss_distance'\n",
    "\n",
    "print('variable:', var)\n",
    "print('null value count: ', df[var].isnull().sum())\n",
    "print()\n",
    "print('Descriptive stats:')\n",
    "print(df[var].describe())"
   ]
  },
  {
   "cell_type": "markdown",
   "metadata": {},
   "source": [
    "Looks like relative_velocity is already match with the columns description, so we can use it."
   ]
  },
  {
   "cell_type": "code",
   "execution_count": 41,
   "metadata": {},
   "outputs": [
    {
     "name": "stdout",
     "output_type": "stream",
     "text": [
      "variable: absolute_magnitude\n",
      "null value count:  0\n",
      "\n",
      "Descriptive stats:\n",
      "count    90836.000000\n",
      "mean        23.527103\n",
      "std          2.894086\n",
      "min          9.230000\n",
      "25%         21.340000\n",
      "50%         23.700000\n",
      "75%         25.700000\n",
      "max         33.200000\n",
      "Name: absolute_magnitude, dtype: float64\n"
     ]
    }
   ],
   "source": [
    "# Preliminary Check\n",
    "# Variable : absolute_magnitude\n",
    "# Description : Describes intrinsic luminosity\n",
    "\n",
    "var = 'absolute_magnitude'\n",
    "\n",
    "print('variable:', var)\n",
    "print('null value count: ', df[var].isnull().sum())\n",
    "print()\n",
    "print('Descriptive stats:')\n",
    "print(df[var].describe())"
   ]
  },
  {
   "cell_type": "code",
   "execution_count": 42,
   "metadata": {},
   "outputs": [
    {
     "name": "stdout",
     "output_type": "stream",
     "text": [
      "variable: name\n",
      "null value count:  0\n",
      "\n",
      "Unique Value Count: 27423\n",
      "['162635 (2000 SS164)' '277475 (2005 WK4)' '512244 (2015 YE18)' ...\n",
      " '(2021 WR3)' '(2015 VK142)' '(1999 LV7)']\n",
      "object\n"
     ]
    }
   ],
   "source": [
    "# Preliminary Check\n",
    "# Variable : name\n",
    "# Description : Name by NASA\n",
    "\n",
    "var = 'name'\n",
    "\n",
    "print('variable:', var)\n",
    "print('null value count: ', df[var].isnull().sum())\n",
    "print()\n",
    "print('Unique Value Count:', df[var].nunique())\n",
    "print(df[var].unique())\n",
    "print(df[var].dtype)\n"
   ]
  },
  {
   "cell_type": "code",
   "execution_count": 43,
   "metadata": {},
   "outputs": [],
   "source": [
    "# # Preliminary Check\n",
    "# # Variable : orbiting_body\n",
    "# # Description : Name by NASA\n",
    "\n",
    "# var = 'orbiting_body'\n",
    "\n",
    "# print('variable:', var)\n",
    "# print('null value count: ', df[var].isnull().sum())\n",
    "# print()\n",
    "# print('Unique Value Count:', df[var].nunique())\n",
    "# print(df[var].unique())\n",
    "# print(df[var].dtype)"
   ]
  },
  {
   "cell_type": "code",
   "execution_count": 44,
   "metadata": {},
   "outputs": [],
   "source": [
    "# # Preliminary Check\n",
    "# # Variable : sentry_object\n",
    "# # Description : Name by NASA\n",
    "\n",
    "# var = 'sentry_object'\n",
    "\n",
    "# print('variable:', var)\n",
    "# print('null value count: ', df[var].isnull().sum())\n",
    "# print()\n",
    "# print('Unique Value Count:', df[var].nunique())\n",
    "# print(df[var].unique())\n",
    "# print(df[var].dtype)"
   ]
  },
  {
   "cell_type": "markdown",
   "metadata": {},
   "source": [
    "**Univariate Analysis**"
   ]
  },
  {
   "cell_type": "markdown",
   "metadata": {},
   "source": [
    "In this sub-process, we will try to explore boolean features and see the distribution of our target value is \"hazardous\", let's get to know about it more deeply."
   ]
  },
  {
   "cell_type": "code",
   "execution_count": 45,
   "metadata": {},
   "outputs": [
    {
     "name": "stdout",
     "output_type": "stream",
     "text": [
      "False    81996\n",
      "True      8840\n",
      "Name: hazardous, dtype: int64\n",
      "\n",
      "False    90.268176\n",
      "True      9.731824\n",
      "Name: hazardous, dtype: float64\n"
     ]
    }
   ],
   "source": [
    "# Number of unique value\n",
    "print(df['hazardous'].value_counts())\n",
    "print()\n",
    "print(df['hazardous'].value_counts(normalize=True)*100)"
   ]
  },
  {
   "cell_type": "code",
   "execution_count": 46,
   "metadata": {},
   "outputs": [
    {
     "data": {
      "image/png": "[encoded data removed]",
      "text/plain": [
       "<Figure size 360x360 with 1 Axes>"
      ]
     },
     "metadata": {},
     "output_type": "display_data"
    }
   ],
   "source": [
    "# Distribution Check\n",
    "\n",
    "plt.figure(figsize=(5, 5))\n",
    "ax = sns.countplot(df['hazardous'],  palette=palette )\n",
    "    \n",
    "ax.set_title(\"Distribution of Target\")\n",
    "ax.set_ylim(0, df['hazardous'].value_counts().max()*1.2)\n",
    "# Annot bar\n",
    "for p in ax.patches:\n",
    "    ax.annotate(\n",
    "        format(p.get_height(), '.0f') + \" (\" + format(p.get_height()*100/len(df), '.1f') + \"%)\",\n",
    "        (p.get_x() + p.get_width() / 2., p.get_height()), \n",
    "        ha = 'center',\n",
    "        fontweight = 'semibold',\n",
    "        size = 13,\n",
    "        xytext = (0, +10), \n",
    "        textcoords = 'offset points',\n",
    "        color = 'black'\n",
    "    )\n",
    "plt.tight_layout()\n",
    "\n",
    "plt.show()"
   ]
  },
  {
   "cell_type": "markdown",
   "metadata": {},
   "source": [
    "From this as we can see that our target value has Imbalance data so we will using this for our train model, and we can try Balance data using some technique later."
   ]
  },
  {
   "cell_type": "markdown",
   "metadata": {},
   "source": [
    "**Diameter of Object in Kilometres**"
   ]
  },
  {
   "cell_type": "code",
   "execution_count": 47,
   "metadata": {},
   "outputs": [
    {
     "data": {
      "text/plain": [
       "<AxesSubplot:xlabel='est_diameter_min', ylabel='est_diameter_max'>"
      ]
     },
     "execution_count": 47,
     "metadata": {},
     "output_type": "execute_result"
    },
    {
     "data": {
      "image/png": "[encoded data removed]",
      "text/plain": [
       "<Figure size 432x288 with 1 Axes>"
      ]
     },
     "metadata": {},
     "output_type": "display_data"
    }
   ],
   "source": [
    "# Check distribution of diameter object\n",
    "sns.scatterplot(x='est_diameter_min', y='est_diameter_max', data=df, palette=palette)"
   ]
  },
  {
   "cell_type": "markdown",
   "metadata": {},
   "source": [
    "As we can see these 2 features that identified minimum and maximum has the same correlation between each others, so maybe we should to merge it with mean value."
   ]
  },
  {
   "cell_type": "code",
   "execution_count": 48,
   "metadata": {},
   "outputs": [
    {
     "data": {
      "text/html": [
       "<div>\n",
       "<style scoped>\n",
       "    .dataframe tbody tr th:only-of-type {\n",
       "        vertical-align: middle;\n",
       "    }\n",
       "\n",
       "    .dataframe tbody tr th {\n",
       "        vertical-align: top;\n",
       "    }\n",
       "\n",
       "    .dataframe thead th {\n",
       "        text-align: right;\n",
       "    }\n",
       "</style>\n",
       "<table border=\"1\" class=\"dataframe\">\n",
       "  <thead>\n",
       "    <tr style=\"text-align: right;\">\n",
       "      <th></th>\n",
       "      <th>name</th>\n",
       "      <th>est_diameter_min</th>\n",
       "      <th>est_diameter_max</th>\n",
       "      <th>relative_velocity</th>\n",
       "      <th>miss_distance</th>\n",
       "      <th>absolute_magnitude</th>\n",
       "      <th>hazardous</th>\n",
       "    </tr>\n",
       "  </thead>\n",
       "  <tbody>\n",
       "    <tr>\n",
       "      <th>0</th>\n",
       "      <td>162635 (2000 SS164)</td>\n",
       "      <td>1.198271</td>\n",
       "      <td>2.679415</td>\n",
       "      <td>13569.249224</td>\n",
       "      <td>5.483974e+07</td>\n",
       "      <td>16.73</td>\n",
       "      <td>False</td>\n",
       "    </tr>\n",
       "    <tr>\n",
       "      <th>1</th>\n",
       "      <td>277475 (2005 WK4)</td>\n",
       "      <td>0.265800</td>\n",
       "      <td>0.594347</td>\n",
       "      <td>73588.726663</td>\n",
       "      <td>6.143813e+07</td>\n",
       "      <td>20.00</td>\n",
       "      <td>True</td>\n",
       "    </tr>\n",
       "    <tr>\n",
       "      <th>2</th>\n",
       "      <td>512244 (2015 YE18)</td>\n",
       "      <td>0.722030</td>\n",
       "      <td>1.614507</td>\n",
       "      <td>114258.692129</td>\n",
       "      <td>4.979872e+07</td>\n",
       "      <td>17.83</td>\n",
       "      <td>False</td>\n",
       "    </tr>\n",
       "    <tr>\n",
       "      <th>3</th>\n",
       "      <td>(2012 BV13)</td>\n",
       "      <td>0.096506</td>\n",
       "      <td>0.215794</td>\n",
       "      <td>24764.303138</td>\n",
       "      <td>2.543497e+07</td>\n",
       "      <td>22.20</td>\n",
       "      <td>False</td>\n",
       "    </tr>\n",
       "    <tr>\n",
       "      <th>4</th>\n",
       "      <td>(2014 GE35)</td>\n",
       "      <td>0.255009</td>\n",
       "      <td>0.570217</td>\n",
       "      <td>42737.733765</td>\n",
       "      <td>4.627557e+07</td>\n",
       "      <td>20.09</td>\n",
       "      <td>True</td>\n",
       "    </tr>\n",
       "  </tbody>\n",
       "</table>\n",
       "</div>"
      ],
      "text/plain": [
       "                  name  est_diameter_min  est_diameter_max  relative_velocity  \\\n",
       "0  162635 (2000 SS164)          1.198271          2.679415       13569.249224   \n",
       "1    277475 (2005 WK4)          0.265800          0.594347       73588.726663   \n",
       "2   512244 (2015 YE18)          0.722030          1.614507      114258.692129   \n",
       "3          (2012 BV13)          0.096506          0.215794       24764.303138   \n",
       "4          (2014 GE35)          0.255009          0.570217       42737.733765   \n",
       "\n",
       "   miss_distance  absolute_magnitude  hazardous  \n",
       "0   5.483974e+07               16.73      False  \n",
       "1   6.143813e+07               20.00       True  \n",
       "2   4.979872e+07               17.83      False  \n",
       "3   2.543497e+07               22.20      False  \n",
       "4   4.627557e+07               20.09       True  "
      ]
     },
     "execution_count": 48,
     "metadata": {},
     "output_type": "execute_result"
    }
   ],
   "source": [
    "df.head()"
   ]
  },
  {
   "cell_type": "markdown",
   "metadata": {},
   "source": [
    "### Velocity and Distance"
   ]
  },
  {
   "cell_type": "code",
   "execution_count": 49,
   "metadata": {},
   "outputs": [],
   "source": [
    "duplicate_objects = df[df.duplicated(subset=['name'], keep=False)]['name'].value_counts().index.to_list()"
   ]
  },
  {
   "cell_type": "code",
   "execution_count": 50,
   "metadata": {},
   "outputs": [
    {
     "data": {
      "image/png": "[encoded data removed]",
      "text/plain": [
       "<Figure size 1800x360 with 5 Axes>"
      ]
     },
     "metadata": {},
     "output_type": "display_data"
    }
   ],
   "source": [
    "fig, axes = plt.subplots(nrows=1, ncols=5, figsize=(25, 5))\n",
    "for i, object in enumerate(duplicate_objects[:5]):\n",
    "    sns.scatterplot(\n",
    "        data=df[df['name'] == object],\n",
    "        x='relative_velocity',\n",
    "        y='miss_distance',\n",
    "        palette=palette,\n",
    "        ax=axes[i],\n",
    "    )"
   ]
  },
  {
   "cell_type": "markdown",
   "metadata": {},
   "source": [
    "According to the laws of gravity, the velocity of an object is directly proportional to the distance between the object and the center of the universe.\n",
    "\n",
    "Observing our data, we can see the relation between the velocity and the distance for some of the objects."
   ]
  },
  {
   "cell_type": "markdown",
   "metadata": {},
   "source": [
    "**Bivariate/Multivariate Analysis**\n",
    "\n",
    "On this section, we will try to explore the relationship between the features and the target value, to explore some facts inside the dataset with **'hazardous'** label as our focus."
   ]
  },
  {
   "cell_type": "markdown",
   "metadata": {},
   "source": [
    "**Speed Object Analysis**"
   ]
  },
  {
   "cell_type": "code",
   "execution_count": 51,
   "metadata": {},
   "outputs": [
    {
     "data": {
      "image/png": "[encoded data removed]",
      "text/plain": [
       "<Figure size 1008x432 with 1 Axes>"
      ]
     },
     "metadata": {},
     "output_type": "display_data"
    }
   ],
   "source": [
    "class_0 = df.loc[df['hazardous'] == False][\"absolute_magnitude\"]\n",
    "class_1 = df.loc[df['hazardous'] == True][\"absolute_magnitude\"]\n",
    "plt.figure(figsize = (14,6))\n",
    "plt.title('Speed magnitude of an object  - grouped by Hazardous of object (Density Plot)', fontsize=20)\n",
    "sns.set_color_codes(\"pastel\")\n",
    "sns.distplot(class_1,kde=True,bins=200, color=\"red\")\n",
    "sns.distplot(class_0,kde=True,bins=200, color=\"blue\")\n",
    "plt.show()"
   ]
  },
  {
   "cell_type": "markdown",
   "metadata": {},
   "source": [
    "From graph above, as we can see an object that will be hazard for earth has highest density of 23 Absolute Magnitude. But for the other objects that are not hazardous, the absolute magnitude has disper distribution from 20 to 28."
   ]
  },
  {
   "cell_type": "markdown",
   "metadata": {},
   "source": [
    "**Missing distance analysis**"
   ]
  },
  {
   "cell_type": "code",
   "execution_count": 52,
   "metadata": {},
   "outputs": [
    {
     "data": {
      "image/png": "[encoded data removed]",
      "text/plain": [
       "<Figure size 1008x432 with 1 Axes>"
      ]
     },
     "metadata": {},
     "output_type": "display_data"
    }
   ],
   "source": [
    "class_0 = df.loc[df['hazardous'] == False][\"miss_distance\"]\n",
    "class_1 = df.loc[df['hazardous'] == True][\"miss_distance\"]\n",
    "plt.figure(figsize = (14,6))\n",
    "plt.title('Missing distancce of an object  - grouped by Hazardous of object (Density Plot)', fontsize=20)\n",
    "sns.set_color_codes(\"pastel\")\n",
    "sns.distplot(class_1,kde=True,bins=200, color=\"red\")\n",
    "sns.distplot(class_0,kde=True,bins=200, color=\"blue\")\n",
    "plt.show()"
   ]
  },
  {
   "cell_type": "markdown",
   "metadata": {},
   "source": [
    "From both of target label has the same result, but the difference between that 2 values on the shortes missing distance that will be likely not hazardous for an earth."
   ]
  },
  {
   "cell_type": "markdown",
   "metadata": {},
   "source": [
    "**Numerical Feature Selection**"
   ]
  },
  {
   "cell_type": "code",
   "execution_count": 53,
   "metadata": {},
   "outputs": [
    {
     "data": {
      "image/png": "[encoded data removed]",
      "text/plain": [
       "<Figure size 1080x1080 with 2 Axes>"
      ]
     },
     "metadata": {},
     "output_type": "display_data"
    }
   ],
   "source": [
    "# Checking correlation between each variables\n",
    "\n",
    "# Heatmap\n",
    "corrmat= df.corr()\n",
    "top_corr_feature = corrmat.index\n",
    "\n",
    "plt.figure(figsize=(15,15))\n",
    "\n",
    "g = sns.heatmap(df[top_corr_feature].corr(), annot=True, cmap = 'RdYlGn', square = 1, linewidths = 0.05)"
   ]
  },
  {
   "cell_type": "code",
   "execution_count": 54,
   "metadata": {},
   "outputs": [
    {
     "data": {
      "image/png": "[encoded data removed]",
      "text/plain": [
       "<Figure size 1440x720 with 1 Axes>"
      ]
     },
     "metadata": {},
     "output_type": "display_data"
    }
   ],
   "source": [
    "# Checking correlation between target variable and input variables\n",
    "\n",
    "df.corrwith(df['hazardous']).sort_values().plot.bar(figsize=(20,10), title='Correlation with `Churn`', fontsize=15, rot=45, grid=True)\n",
    "plt.show()"
   ]
  },
  {
   "cell_type": "markdown",
   "metadata": {},
   "source": [
    "Based on graph above, we can summarize top features that correlate with **'hazardous'** as target label:\n",
    "\n",
    "- absolute_magnitude has negative correlation with hazardous.\n",
    "- est_diameter_min and est_diameter_max has positive correlation between the target value, but we need to manage this features to merge it and use mean value."
   ]
  },
  {
   "cell_type": "markdown",
   "metadata": {},
   "source": [
    "---\n",
    "\n",
    "## Data Preprocessing\n",
    "\n",
    "In this process I split my dataset into train, test, and inference dataset."
   ]
  },
  {
   "cell_type": "markdown",
   "metadata": {},
   "source": [
    "\n",
    "\n",
    "**Dataset Splitting**\n",
    "\n",
    "In this process, I will split my dataset into different set:\n",
    "\n",
    "- Use 80% from dataset for Train Set\n",
    "- Use 20% from dataset for Test Set\n",
    "\n",
    "all of those entries will be randomly selected from the dataset."
   ]
  },
  {
   "cell_type": "code",
   "execution_count": 55,
   "metadata": {},
   "outputs": [],
   "source": [
    "# Splitting Dataset\n",
    "\n",
    "# X will be consist of features only\n",
    "X = df.drop(['hazardous'], axis=1)\n",
    "\n",
    "# y will be consist of target only\n",
    "y = df['hazardous']"
   ]
  },
  {
   "cell_type": "code",
   "execution_count": 56,
   "metadata": {},
   "outputs": [],
   "source": [
    "# Splitting the dataset into the Training set and Test set\n",
    "X_train, X_test, y_train, y_test = train_test_split(\n",
    "    X, y, test_size=0.2,\n",
    "    random_state=42\n",
    ")"
   ]
  },
  {
   "cell_type": "code",
   "execution_count": 57,
   "metadata": {},
   "outputs": [
    {
     "data": {
      "text/html": [
       "<div>\n",
       "<style scoped>\n",
       "    .dataframe tbody tr th:only-of-type {\n",
       "        vertical-align: middle;\n",
       "    }\n",
       "\n",
       "    .dataframe tbody tr th {\n",
       "        vertical-align: top;\n",
       "    }\n",
       "\n",
       "    .dataframe thead th {\n",
       "        text-align: right;\n",
       "    }\n",
       "</style>\n",
       "<table border=\"1\" class=\"dataframe\">\n",
       "  <thead>\n",
       "    <tr style=\"text-align: right;\">\n",
       "      <th></th>\n",
       "      <th>name</th>\n",
       "      <th>est_diameter_min</th>\n",
       "      <th>est_diameter_max</th>\n",
       "      <th>relative_velocity</th>\n",
       "      <th>miss_distance</th>\n",
       "      <th>absolute_magnitude</th>\n",
       "    </tr>\n",
       "  </thead>\n",
       "  <tbody>\n",
       "    <tr>\n",
       "      <th>35538</th>\n",
       "      <td>(2018 PR10)</td>\n",
       "      <td>0.038420</td>\n",
       "      <td>0.085909</td>\n",
       "      <td>91103.489666</td>\n",
       "      <td>6.350550e+07</td>\n",
       "      <td>24.2</td>\n",
       "    </tr>\n",
       "    <tr>\n",
       "      <th>40393</th>\n",
       "      <td>277830 (2006 HR29)</td>\n",
       "      <td>0.192555</td>\n",
       "      <td>0.430566</td>\n",
       "      <td>28359.611312</td>\n",
       "      <td>2.868167e+07</td>\n",
       "      <td>20.7</td>\n",
       "    </tr>\n",
       "    <tr>\n",
       "      <th>58540</th>\n",
       "      <td>(2013 HT25)</td>\n",
       "      <td>0.004619</td>\n",
       "      <td>0.010329</td>\n",
       "      <td>107351.426865</td>\n",
       "      <td>5.388098e+04</td>\n",
       "      <td>28.8</td>\n",
       "    </tr>\n",
       "    <tr>\n",
       "      <th>61670</th>\n",
       "      <td>(2018 WR)</td>\n",
       "      <td>0.015295</td>\n",
       "      <td>0.034201</td>\n",
       "      <td>21423.536884</td>\n",
       "      <td>5.103884e+07</td>\n",
       "      <td>26.2</td>\n",
       "    </tr>\n",
       "    <tr>\n",
       "      <th>11435</th>\n",
       "      <td>(2018 FU1)</td>\n",
       "      <td>0.011603</td>\n",
       "      <td>0.025944</td>\n",
       "      <td>69856.053840</td>\n",
       "      <td>7.360836e+07</td>\n",
       "      <td>26.8</td>\n",
       "    </tr>\n",
       "  </tbody>\n",
       "</table>\n",
       "</div>"
      ],
      "text/plain": [
       "                     name  est_diameter_min  est_diameter_max  \\\n",
       "35538         (2018 PR10)          0.038420          0.085909   \n",
       "40393  277830 (2006 HR29)          0.192555          0.430566   \n",
       "58540         (2013 HT25)          0.004619          0.010329   \n",
       "61670           (2018 WR)          0.015295          0.034201   \n",
       "11435          (2018 FU1)          0.011603          0.025944   \n",
       "\n",
       "       relative_velocity  miss_distance  absolute_magnitude  \n",
       "35538       91103.489666   6.350550e+07                24.2  \n",
       "40393       28359.611312   2.868167e+07                20.7  \n",
       "58540      107351.426865   5.388098e+04                28.8  \n",
       "61670       21423.536884   5.103884e+07                26.2  \n",
       "11435       69856.053840   7.360836e+07                26.8  "
      ]
     },
     "execution_count": 57,
     "metadata": {},
     "output_type": "execute_result"
    }
   ],
   "source": [
    "X_train.head()"
   ]
  },
  {
   "cell_type": "code",
   "execution_count": 58,
   "metadata": {},
   "outputs": [
    {
     "data": {
      "text/plain": [
       "Index(['name', 'est_diameter_min', 'est_diameter_max', 'relative_velocity',\n",
       "       'miss_distance', 'absolute_magnitude'],\n",
       "      dtype='object')"
      ]
     },
     "execution_count": 58,
     "metadata": {},
     "output_type": "execute_result"
    }
   ],
   "source": [
    "X_train.columns"
   ]
  },
  {
   "cell_type": "code",
   "execution_count": 59,
   "metadata": {},
   "outputs": [],
   "source": [
    "# categorizing features\n",
    "num_cols = [\n",
    "    'est_diameter_min', 'est_diameter_max', 'relative_velocity',\n",
    "    'miss_distance', 'absolute_magnitude'\n",
    "]\n",
    "\n",
    "nom_cols = ['name']\n"
   ]
  },
  {
   "cell_type": "markdown",
   "metadata": {},
   "source": [
    "### Handling Outliers"
   ]
  },
  {
   "cell_type": "code",
   "execution_count": 60,
   "metadata": {},
   "outputs": [
    {
     "data": {
      "text/html": [
       "<div>\n",
       "<style scoped>\n",
       "    .dataframe tbody tr th:only-of-type {\n",
       "        vertical-align: middle;\n",
       "    }\n",
       "\n",
       "    .dataframe tbody tr th {\n",
       "        vertical-align: top;\n",
       "    }\n",
       "\n",
       "    .dataframe thead th {\n",
       "        text-align: right;\n",
       "    }\n",
       "</style>\n",
       "<table border=\"1\" class=\"dataframe\">\n",
       "  <thead>\n",
       "    <tr style=\"text-align: right;\">\n",
       "      <th></th>\n",
       "      <th>feats</th>\n",
       "      <th>skew</th>\n",
       "      <th>dist</th>\n",
       "      <th>tot_outlier</th>\n",
       "      <th>tot_outlier_pct</th>\n",
       "    </tr>\n",
       "  </thead>\n",
       "  <tbody>\n",
       "    <tr>\n",
       "      <th>0</th>\n",
       "      <td>est_diameter_min</td>\n",
       "      <td>42.721342</td>\n",
       "      <td>skewed</td>\n",
       "      <td>6621</td>\n",
       "      <td>9.111301</td>\n",
       "    </tr>\n",
       "    <tr>\n",
       "      <th>1</th>\n",
       "      <td>est_diameter_max</td>\n",
       "      <td>42.721342</td>\n",
       "      <td>skewed</td>\n",
       "      <td>6621</td>\n",
       "      <td>9.111301</td>\n",
       "    </tr>\n",
       "    <tr>\n",
       "      <th>2</th>\n",
       "      <td>relative_velocity</td>\n",
       "      <td>0.906590</td>\n",
       "      <td>skewed</td>\n",
       "      <td>1252</td>\n",
       "      <td>1.722904</td>\n",
       "    </tr>\n",
       "    <tr>\n",
       "      <th>3</th>\n",
       "      <td>miss_distance</td>\n",
       "      <td>-0.045471</td>\n",
       "      <td>normal</td>\n",
       "      <td>0</td>\n",
       "      <td>0.000000</td>\n",
       "    </tr>\n",
       "    <tr>\n",
       "      <th>4</th>\n",
       "      <td>absolute_magnitude</td>\n",
       "      <td>-0.131716</td>\n",
       "      <td>normal</td>\n",
       "      <td>83</td>\n",
       "      <td>0.114218</td>\n",
       "    </tr>\n",
       "  </tbody>\n",
       "</table>\n",
       "</div>"
      ],
      "text/plain": [
       "                feats       skew    dist  tot_outlier  tot_outlier_pct\n",
       "0    est_diameter_min  42.721342  skewed         6621         9.111301\n",
       "1    est_diameter_max  42.721342  skewed         6621         9.111301\n",
       "2   relative_velocity   0.906590  skewed         1252         1.722904\n",
       "3       miss_distance  -0.045471  normal            0         0.000000\n",
       "4  absolute_magnitude  -0.131716  normal           83         0.114218"
      ]
     },
     "execution_count": 60,
     "metadata": {},
     "output_type": "execute_result"
    }
   ],
   "source": [
    "# check outlier summary only on numerical features\n",
    "outlier_summary(X_train[num_cols], 1.5)"
   ]
  },
  {
   "cell_type": "markdown",
   "metadata": {},
   "source": [
    "1. `Trimming`: if outliers' percentage < 5%\n",
    "2. `Capping`: if outliers' percentage 5% - 15%\n",
    "3. `None`: if outliers' percentage > 15%"
   ]
  },
  {
   "cell_type": "code",
   "execution_count": 61,
   "metadata": {},
   "outputs": [
    {
     "data": {
      "text/html": [
       "<div>\n",
       "<style scoped>\n",
       "    .dataframe tbody tr th:only-of-type {\n",
       "        vertical-align: middle;\n",
       "    }\n",
       "\n",
       "    .dataframe tbody tr th {\n",
       "        vertical-align: top;\n",
       "    }\n",
       "\n",
       "    .dataframe thead th {\n",
       "        text-align: right;\n",
       "    }\n",
       "</style>\n",
       "<table border=\"1\" class=\"dataframe\">\n",
       "  <thead>\n",
       "    <tr style=\"text-align: right;\">\n",
       "      <th></th>\n",
       "      <th>feats</th>\n",
       "      <th>upper_bound</th>\n",
       "      <th>lower_bound</th>\n",
       "      <th>tot_right_tail</th>\n",
       "      <th>tot_left_tail</th>\n",
       "      <th>tot_right_tail_pct</th>\n",
       "      <th>tot_left_tail_pct</th>\n",
       "      <th>tot_outlier</th>\n",
       "      <th>tot_outlier_pct</th>\n",
       "    </tr>\n",
       "  </thead>\n",
       "  <tbody>\n",
       "    <tr>\n",
       "      <th>0</th>\n",
       "      <td>est_diameter_min</td>\n",
       "      <td>3.296215e-01</td>\n",
       "      <td>-1.669641e-01</td>\n",
       "      <td>6621</td>\n",
       "      <td>0</td>\n",
       "      <td>9.111301</td>\n",
       "      <td>0.000000</td>\n",
       "      <td>6621</td>\n",
       "      <td>9.111301</td>\n",
       "    </tr>\n",
       "    <tr>\n",
       "      <th>1</th>\n",
       "      <td>est_diameter_max</td>\n",
       "      <td>7.370562e-01</td>\n",
       "      <td>-3.733431e-01</td>\n",
       "      <td>6621</td>\n",
       "      <td>0</td>\n",
       "      <td>9.111301</td>\n",
       "      <td>0.000000</td>\n",
       "      <td>6621</td>\n",
       "      <td>9.111301</td>\n",
       "    </tr>\n",
       "    <tr>\n",
       "      <th>2</th>\n",
       "      <td>relative_velocity</td>\n",
       "      <td>1.143893e+05</td>\n",
       "      <td>-2.288003e+04</td>\n",
       "      <td>1252</td>\n",
       "      <td>0</td>\n",
       "      <td>1.722904</td>\n",
       "      <td>0.000000</td>\n",
       "      <td>1252</td>\n",
       "      <td>1.722904</td>\n",
       "    </tr>\n",
       "    <tr>\n",
       "      <th>3</th>\n",
       "      <td>miss_distance</td>\n",
       "      <td>1.041083e+08</td>\n",
       "      <td>-2.998751e+07</td>\n",
       "      <td>0</td>\n",
       "      <td>0</td>\n",
       "      <td>0.000000</td>\n",
       "      <td>0.000000</td>\n",
       "      <td>0</td>\n",
       "      <td>0.000000</td>\n",
       "    </tr>\n",
       "    <tr>\n",
       "      <th>4</th>\n",
       "      <td>absolute_magnitude</td>\n",
       "      <td>3.221436e+01</td>\n",
       "      <td>1.484773e+01</td>\n",
       "      <td>14</td>\n",
       "      <td>69</td>\n",
       "      <td>0.019266</td>\n",
       "      <td>0.094952</td>\n",
       "      <td>83</td>\n",
       "      <td>0.114218</td>\n",
       "    </tr>\n",
       "  </tbody>\n",
       "</table>\n",
       "</div>"
      ],
      "text/plain": [
       "                feats   upper_bound   lower_bound  tot_right_tail  \\\n",
       "0    est_diameter_min  3.296215e-01 -1.669641e-01            6621   \n",
       "1    est_diameter_max  7.370562e-01 -3.733431e-01            6621   \n",
       "2   relative_velocity  1.143893e+05 -2.288003e+04            1252   \n",
       "3       miss_distance  1.041083e+08 -2.998751e+07               0   \n",
       "4  absolute_magnitude  3.221436e+01  1.484773e+01              14   \n",
       "\n",
       "   tot_left_tail  tot_right_tail_pct  tot_left_tail_pct  tot_outlier  \\\n",
       "0              0            9.111301           0.000000         6621   \n",
       "1              0            9.111301           0.000000         6621   \n",
       "2              0            1.722904           0.000000         1252   \n",
       "3              0            0.000000           0.000000            0   \n",
       "4             69            0.019266           0.094952           83   \n",
       "\n",
       "   tot_outlier_pct  \n",
       "0         9.111301  \n",
       "1         9.111301  \n",
       "2         1.722904  \n",
       "3         0.000000  \n",
       "4         0.114218  "
      ]
     },
     "execution_count": 61,
     "metadata": {},
     "output_type": "execute_result"
    }
   ],
   "source": [
    "# check outlier details\n",
    "check_outlier(X_train[num_cols], 1.5)"
   ]
  },
  {
   "cell_type": "code",
   "execution_count": 62,
   "metadata": {},
   "outputs": [
    {
     "name": "stdout",
     "output_type": "stream",
     "text": [
      "X_train shape before trimming and capping: (72668, 6)\n",
      "y_train shape before trimming and capping: (72668,)\n",
      "X_train shape after trimming and capping: (71338, 6)\n",
      "y_train shape after trimming and capping: (71338,)\n"
     ]
    }
   ],
   "source": [
    "# print X_train and y_train shape before trimming and capping\n",
    "print('X_train shape before trimming and capping:', X_train.shape)\n",
    "print('y_train shape before trimming and capping:', y_train.shape)\n",
    "\n",
    "# trim and cap outliers\n",
    "X_train, y_train = trim_cap_outliers(\n",
    "    X_train,\n",
    "    exception_list = nom_cols,\n",
    "    fold=1.5,\n",
    "    target=y_train\n",
    ")\n",
    "\n",
    "# print X_train and y_train shape after trimming and capping\n",
    "print('X_train shape after trimming and capping:', X_train.shape)\n",
    "print('y_train shape after trimming and capping:', y_train.shape)"
   ]
  },
  {
   "cell_type": "markdown",
   "metadata": {},
   "source": [
    "### Handling Missing Values"
   ]
  },
  {
   "cell_type": "code",
   "execution_count": 63,
   "metadata": {},
   "outputs": [
    {
     "data": {
      "text/html": [
       "<div>\n",
       "<style scoped>\n",
       "    .dataframe tbody tr th:only-of-type {\n",
       "        vertical-align: middle;\n",
       "    }\n",
       "\n",
       "    .dataframe tbody tr th {\n",
       "        vertical-align: top;\n",
       "    }\n",
       "\n",
       "    .dataframe thead th {\n",
       "        text-align: right;\n",
       "    }\n",
       "</style>\n",
       "<table border=\"1\" class=\"dataframe\">\n",
       "  <thead>\n",
       "    <tr style=\"text-align: right;\">\n",
       "      <th></th>\n",
       "      <th>feats</th>\n",
       "      <th>tot_missing</th>\n",
       "      <th>tot_missing_pct</th>\n",
       "    </tr>\n",
       "  </thead>\n",
       "  <tbody>\n",
       "  </tbody>\n",
       "</table>\n",
       "</div>"
      ],
      "text/plain": [
       "Empty DataFrame\n",
       "Columns: [feats, tot_missing, tot_missing_pct]\n",
       "Index: []"
      ]
     },
     "execution_count": 63,
     "metadata": {},
     "output_type": "execute_result"
    }
   ],
   "source": [
    "# check missing values in train set\n",
    "check_missing(X_train)"
   ]
  },
  {
   "cell_type": "code",
   "execution_count": 64,
   "metadata": {},
   "outputs": [
    {
     "data": {
      "text/plain": [
       "0"
      ]
     },
     "execution_count": 64,
     "metadata": {},
     "output_type": "execute_result"
    }
   ],
   "source": [
    "# check missing values in train target\n",
    "y_train.isna().sum()"
   ]
  },
  {
   "cell_type": "code",
   "execution_count": 65,
   "metadata": {},
   "outputs": [
    {
     "data": {
      "text/html": [
       "<div>\n",
       "<style scoped>\n",
       "    .dataframe tbody tr th:only-of-type {\n",
       "        vertical-align: middle;\n",
       "    }\n",
       "\n",
       "    .dataframe tbody tr th {\n",
       "        vertical-align: top;\n",
       "    }\n",
       "\n",
       "    .dataframe thead th {\n",
       "        text-align: right;\n",
       "    }\n",
       "</style>\n",
       "<table border=\"1\" class=\"dataframe\">\n",
       "  <thead>\n",
       "    <tr style=\"text-align: right;\">\n",
       "      <th></th>\n",
       "      <th>feats</th>\n",
       "      <th>tot_missing</th>\n",
       "      <th>tot_missing_pct</th>\n",
       "    </tr>\n",
       "  </thead>\n",
       "  <tbody>\n",
       "  </tbody>\n",
       "</table>\n",
       "</div>"
      ],
      "text/plain": [
       "Empty DataFrame\n",
       "Columns: [feats, tot_missing, tot_missing_pct]\n",
       "Index: []"
      ]
     },
     "execution_count": 65,
     "metadata": {},
     "output_type": "execute_result"
    }
   ],
   "source": [
    "# check missing values in test set\n",
    "check_missing(X_test)"
   ]
  },
  {
   "cell_type": "code",
   "execution_count": 66,
   "metadata": {},
   "outputs": [
    {
     "data": {
      "text/plain": [
       "0"
      ]
     },
     "execution_count": 66,
     "metadata": {},
     "output_type": "execute_result"
    }
   ],
   "source": [
    "# check missing values in test target\n",
    "y_test.isna().sum()"
   ]
  },
  {
   "cell_type": "markdown",
   "metadata": {},
   "source": [
    "### Feature Selection"
   ]
  },
  {
   "cell_type": "code",
   "execution_count": 67,
   "metadata": {},
   "outputs": [
    {
     "data": {
      "text/html": [
       "<div>\n",
       "<style scoped>\n",
       "    .dataframe tbody tr th:only-of-type {\n",
       "        vertical-align: middle;\n",
       "    }\n",
       "\n",
       "    .dataframe tbody tr th {\n",
       "        vertical-align: top;\n",
       "    }\n",
       "\n",
       "    .dataframe thead th {\n",
       "        text-align: right;\n",
       "    }\n",
       "</style>\n",
       "<table border=\"1\" class=\"dataframe\">\n",
       "  <thead>\n",
       "    <tr style=\"text-align: right;\">\n",
       "      <th></th>\n",
       "      <th>feats</th>\n",
       "      <th>skew</th>\n",
       "      <th>dist</th>\n",
       "      <th>tot_outlier</th>\n",
       "      <th>tot_outlier_pct</th>\n",
       "    </tr>\n",
       "  </thead>\n",
       "  <tbody>\n",
       "    <tr>\n",
       "      <th>0</th>\n",
       "      <td>est_diameter_min</td>\n",
       "      <td>1.229844</td>\n",
       "      <td>skewed</td>\n",
       "      <td>0</td>\n",
       "      <td>0.000000</td>\n",
       "    </tr>\n",
       "    <tr>\n",
       "      <th>1</th>\n",
       "      <td>est_diameter_max</td>\n",
       "      <td>1.229844</td>\n",
       "      <td>skewed</td>\n",
       "      <td>0</td>\n",
       "      <td>0.000000</td>\n",
       "    </tr>\n",
       "    <tr>\n",
       "      <th>2</th>\n",
       "      <td>relative_velocity</td>\n",
       "      <td>0.562587</td>\n",
       "      <td>skewed</td>\n",
       "      <td>187</td>\n",
       "      <td>0.262132</td>\n",
       "    </tr>\n",
       "    <tr>\n",
       "      <th>3</th>\n",
       "      <td>miss_distance</td>\n",
       "      <td>-0.030518</td>\n",
       "      <td>normal</td>\n",
       "      <td>0</td>\n",
       "      <td>0.000000</td>\n",
       "    </tr>\n",
       "    <tr>\n",
       "      <th>4</th>\n",
       "      <td>absolute_magnitude</td>\n",
       "      <td>-0.117334</td>\n",
       "      <td>normal</td>\n",
       "      <td>11</td>\n",
       "      <td>0.015420</td>\n",
       "    </tr>\n",
       "  </tbody>\n",
       "</table>\n",
       "</div>"
      ],
      "text/plain": [
       "                feats      skew    dist  tot_outlier  tot_outlier_pct\n",
       "0    est_diameter_min  1.229844  skewed            0         0.000000\n",
       "1    est_diameter_max  1.229844  skewed            0         0.000000\n",
       "2   relative_velocity  0.562587  skewed          187         0.262132\n",
       "3       miss_distance -0.030518  normal            0         0.000000\n",
       "4  absolute_magnitude -0.117334  normal           11         0.015420"
      ]
     },
     "execution_count": 67,
     "metadata": {},
     "output_type": "execute_result"
    }
   ],
   "source": [
    "# check outlier details\n",
    "outlier_summary(X_train[num_cols], 1.5)"
   ]
  },
  {
   "cell_type": "code",
   "execution_count": 68,
   "metadata": {},
   "outputs": [
    {
     "data": {
      "text/plain": [
       "Index(['name', 'est_diameter_min', 'est_diameter_max', 'relative_velocity',\n",
       "       'miss_distance', 'absolute_magnitude'],\n",
       "      dtype='object')"
      ]
     },
     "execution_count": 68,
     "metadata": {},
     "output_type": "execute_result"
    }
   ],
   "source": [
    "X_train.columns"
   ]
  },
  {
   "cell_type": "code",
   "execution_count": 69,
   "metadata": {},
   "outputs": [],
   "source": [
    "# create list of numerical features with normal distribution\n",
    "num_cols_norm = [\n",
    "    'miss_distance', 'absolute_magnitude'\n",
    "]\n",
    "\n",
    "# create list of numerical features with skew\n",
    "num_cols_skew = [\n",
    "    'est_diameter_min', 'est_diameter_max', 'relative_velocity',\n",
    "]\n",
    "\n",
    "# # create final list of nominal features\n",
    "# nom_cols = ['name']"
   ]
  },
  {
   "cell_type": "code",
   "execution_count": 70,
   "metadata": {},
   "outputs": [],
   "source": [
    "# declare standard scaler\n",
    "std_sc = StandardScaler()\n",
    "\n",
    "# declare min max scaling\n",
    "mm_sc = MinMaxScaler()\n",
    "\n",
    "# declare one hot encoder\n",
    "ohe_enc = OneHotEncoder(handle_unknown='ignore')\n",
    "\n",
    "# declare ordinal encoder\n",
    "ord_enc = OrdinalEncoder()\n",
    "\n",
    "# declare label encoder\n",
    "label_enc = LabelEncoder()"
   ]
  },
  {
   "cell_type": "code",
   "execution_count": 71,
   "metadata": {},
   "outputs": [],
   "source": [
    "# create column transformer object using min max scaler\n",
    "scale_mm = ColumnTransformer([\n",
    "    ('num_norm', std_sc, num_cols_norm),\n",
    "    ('num_skew', mm_sc, num_cols_skew),\n",
    "    ('nom', 'passthrough', nom_cols),\n",
    "])\n",
    "\n",
    "# create column transformer object for use after oversampling\n",
    "encode = ColumnTransformer([\n",
    "    ('num', 'passthrough', slice(0, 5)),\n",
    "    ('ord', ord_enc, [5]),\n",
    "])\n",
    "\n",
    "smote = SMOTE(random_state=42)\n",
    "\n",
    "# create smotenc object\n",
    "# categorical features will be put at the end, after the numerical ones\n",
    "smotenc = SMOTENC(\n",
    "    categorical_features= list(range(5, 6)),\n",
    "    random_state=42\n",
    ")\n",
    "\n",
    "# # create pca object\n",
    "# pca = PCA(n_components=0.8, random_state=42)\n"
   ]
  },
  {
   "cell_type": "markdown",
   "metadata": {},
   "source": []
  },
  {
   "cell_type": "code",
   "execution_count": 72,
   "metadata": {},
   "outputs": [],
   "source": [
    "rf = RandomForestClassifier(random_state=42)"
   ]
  },
  {
   "cell_type": "code",
   "execution_count": 73,
   "metadata": {},
   "outputs": [],
   "source": [
    "pipe_rf = Pipeline([\n",
    "    ('scale', scale_mm),\n",
    "    ('encode', encode),\n",
    "    ('rf', rf),\n",
    "])"
   ]
  },
  {
   "cell_type": "code",
   "execution_count": 74,
   "metadata": {},
   "outputs": [
    {
     "data": {
      "text/html": [
       "<style>#sk-container-id-1 {color: black;background-color: white;}#sk-container-id-1 pre{padding: 0;}#sk-container-id-1 div.sk-toggleable {background-color: white;}#sk-container-id-1 label.sk-toggleable__label {cursor: pointer;display: block;width: 100%;margin-bottom: 0;padding: 0.3em;box-sizing: border-box;text-align: center;}#sk-container-id-1 label.sk-toggleable__label-arrow:before {content: \"▸\";float: left;margin-right: 0.25em;color: #696969;}#sk-container-id-1 label.sk-toggleable__label-arrow:hover:before {color: black;}#sk-container-id-1 div.sk-estimator:hover label.sk-toggleable__label-arrow:before {color: black;}#sk-container-id-1 div.sk-toggleable__content {max-height: 0;max-width: 0;overflow: hidden;text-align: left;background-color: #f0f8ff;}#sk-container-id-1 div.sk-toggleable__content pre {margin: 0.2em;color: black;border-radius: 0.25em;background-color: #f0f8ff;}#sk-container-id-1 input.sk-toggleable__control:checked~div.sk-toggleable__content {max-height: 200px;max-width: 100%;overflow: auto;}#sk-container-id-1 input.sk-toggleable__control:checked~label.sk-toggleable__label-arrow:before {content: \"▾\";}#sk-container-id-1 div.sk-estimator input.sk-toggleable__control:checked~label.sk-toggleable__label {background-color: #d4ebff;}#sk-container-id-1 div.sk-label input.sk-toggleable__control:checked~label.sk-toggleable__label {background-color: #d4ebff;}#sk-container-id-1 input.sk-hidden--visually {border: 0;clip: rect(1px 1px 1px 1px);clip: rect(1px, 1px, 1px, 1px);height: 1px;margin: -1px;overflow: hidden;padding: 0;position: absolute;width: 1px;}#sk-container-id-1 div.sk-estimator {font-family: monospace;background-color: #f0f8ff;border: 1px dotted black;border-radius: 0.25em;box-sizing: border-box;margin-bottom: 0.5em;}#sk-container-id-1 div.sk-estimator:hover {background-color: #d4ebff;}#sk-container-id-1 div.sk-parallel-item::after {content: \"\";width: 100%;border-bottom: 1px solid gray;flex-grow: 1;}#sk-container-id-1 div.sk-label:hover label.sk-toggleable__label {background-color: #d4ebff;}#sk-container-id-1 div.sk-serial::before {content: \"\";position: absolute;border-left: 1px solid gray;box-sizing: border-box;top: 0;bottom: 0;left: 50%;z-index: 0;}#sk-container-id-1 div.sk-serial {display: flex;flex-direction: column;align-items: center;background-color: white;padding-right: 0.2em;padding-left: 0.2em;position: relative;}#sk-container-id-1 div.sk-item {position: relative;z-index: 1;}#sk-container-id-1 div.sk-parallel {display: flex;align-items: stretch;justify-content: center;background-color: white;position: relative;}#sk-container-id-1 div.sk-item::before, #sk-container-id-1 div.sk-parallel-item::before {content: \"\";position: absolute;border-left: 1px solid gray;box-sizing: border-box;top: 0;bottom: 0;left: 50%;z-index: -1;}#sk-container-id-1 div.sk-parallel-item {display: flex;flex-direction: column;z-index: 1;position: relative;background-color: white;}#sk-container-id-1 div.sk-parallel-item:first-child::after {align-self: flex-end;width: 50%;}#sk-container-id-1 div.sk-parallel-item:last-child::after {align-self: flex-start;width: 50%;}#sk-container-id-1 div.sk-parallel-item:only-child::after {width: 0;}#sk-container-id-1 div.sk-dashed-wrapped {border: 1px dashed gray;margin: 0 0.4em 0.5em 0.4em;box-sizing: border-box;padding-bottom: 0.4em;background-color: white;}#sk-container-id-1 div.sk-label label {font-family: monospace;font-weight: bold;display: inline-block;line-height: 1.2em;}#sk-container-id-1 div.sk-label-container {text-align: center;}#sk-container-id-1 div.sk-container {/* jupyter's `normalize.less` sets `[hidden] { display: none; }` but bootstrap.min.css set `[hidden] { display: none !important; }` so we also need the `!important` here to be able to override the default hidden behavior on the sphinx rendered scikit-learn.org. See: https://github.com/scikit-learn/scikit-learn/issues/21755 */display: inline-block !important;position: relative;}#sk-container-id-1 div.sk-text-repr-fallback {display: none;}</style><div id=\"sk-container-id-1\" class=\"sk-top-container\"><div class=\"sk-text-repr-fallback\"><pre>Pipeline(steps=[(&#x27;scale&#x27;,\n",
       "                 ColumnTransformer(transformers=[(&#x27;num_norm&#x27;, StandardScaler(),\n",
       "                                                  [&#x27;miss_distance&#x27;,\n",
       "                                                   &#x27;absolute_magnitude&#x27;]),\n",
       "                                                 (&#x27;num_skew&#x27;, MinMaxScaler(),\n",
       "                                                  [&#x27;est_diameter_min&#x27;,\n",
       "                                                   &#x27;est_diameter_max&#x27;,\n",
       "                                                   &#x27;relative_velocity&#x27;]),\n",
       "                                                 (&#x27;nom&#x27;, &#x27;passthrough&#x27;,\n",
       "                                                  [&#x27;name&#x27;])])),\n",
       "                (&#x27;encode&#x27;,\n",
       "                 ColumnTransformer(transformers=[(&#x27;num&#x27;, &#x27;passthrough&#x27;,\n",
       "                                                  slice(0, 5, None)),\n",
       "                                                 (&#x27;ord&#x27;, OrdinalEncoder(),\n",
       "                                                  [5])])),\n",
       "                (&#x27;rf&#x27;, RandomForestClassifier(random_state=42))])</pre><b>In a Jupyter environment, please rerun this cell to show the HTML representation or trust the notebook. <br />On GitHub, the HTML representation is unable to render, please try loading this page with nbviewer.org.</b></div><div class=\"sk-container\" hidden><div class=\"sk-item sk-dashed-wrapped\"><div class=\"sk-label-container\"><div class=\"sk-label sk-toggleable\"><input class=\"sk-toggleable__control sk-hidden--visually\" id=\"sk-estimator-id-1\" type=\"checkbox\" ><label for=\"sk-estimator-id-1\" class=\"sk-toggleable__label sk-toggleable__label-arrow\">Pipeline</label><div class=\"sk-toggleable__content\"><pre>Pipeline(steps=[(&#x27;scale&#x27;,\n",
       "                 ColumnTransformer(transformers=[(&#x27;num_norm&#x27;, StandardScaler(),\n",
       "                                                  [&#x27;miss_distance&#x27;,\n",
       "                                                   &#x27;absolute_magnitude&#x27;]),\n",
       "                                                 (&#x27;num_skew&#x27;, MinMaxScaler(),\n",
       "                                                  [&#x27;est_diameter_min&#x27;,\n",
       "                                                   &#x27;est_diameter_max&#x27;,\n",
       "                                                   &#x27;relative_velocity&#x27;]),\n",
       "                                                 (&#x27;nom&#x27;, &#x27;passthrough&#x27;,\n",
       "                                                  [&#x27;name&#x27;])])),\n",
       "                (&#x27;encode&#x27;,\n",
       "                 ColumnTransformer(transformers=[(&#x27;num&#x27;, &#x27;passthrough&#x27;,\n",
       "                                                  slice(0, 5, None)),\n",
       "                                                 (&#x27;ord&#x27;, OrdinalEncoder(),\n",
       "                                                  [5])])),\n",
       "                (&#x27;rf&#x27;, RandomForestClassifier(random_state=42))])</pre></div></div></div><div class=\"sk-serial\"><div class=\"sk-item sk-dashed-wrapped\"><div class=\"sk-label-container\"><div class=\"sk-label sk-toggleable\"><input class=\"sk-toggleable__control sk-hidden--visually\" id=\"sk-estimator-id-2\" type=\"checkbox\" ><label for=\"sk-estimator-id-2\" class=\"sk-toggleable__label sk-toggleable__label-arrow\">scale: ColumnTransformer</label><div class=\"sk-toggleable__content\"><pre>ColumnTransformer(transformers=[(&#x27;num_norm&#x27;, StandardScaler(),\n",
       "                                 [&#x27;miss_distance&#x27;, &#x27;absolute_magnitude&#x27;]),\n",
       "                                (&#x27;num_skew&#x27;, MinMaxScaler(),\n",
       "                                 [&#x27;est_diameter_min&#x27;, &#x27;est_diameter_max&#x27;,\n",
       "                                  &#x27;relative_velocity&#x27;]),\n",
       "                                (&#x27;nom&#x27;, &#x27;passthrough&#x27;, [&#x27;name&#x27;])])</pre></div></div></div><div class=\"sk-parallel\"><div class=\"sk-parallel-item\"><div class=\"sk-item\"><div class=\"sk-label-container\"><div class=\"sk-label sk-toggleable\"><input class=\"sk-toggleable__control sk-hidden--visually\" id=\"sk-estimator-id-3\" type=\"checkbox\" ><label for=\"sk-estimator-id-3\" class=\"sk-toggleable__label sk-toggleable__label-arrow\">num_norm</label><div class=\"sk-toggleable__content\"><pre>[&#x27;miss_distance&#x27;, &#x27;absolute_magnitude&#x27;]</pre></div></div></div><div class=\"sk-serial\"><div class=\"sk-item\"><div class=\"sk-estimator sk-toggleable\"><input class=\"sk-toggleable__control sk-hidden--visually\" id=\"sk-estimator-id-4\" type=\"checkbox\" ><label for=\"sk-estimator-id-4\" class=\"sk-toggleable__label sk-toggleable__label-arrow\">StandardScaler</label><div class=\"sk-toggleable__content\"><pre>StandardScaler()</pre></div></div></div></div></div></div><div class=\"sk-parallel-item\"><div class=\"sk-item\"><div class=\"sk-label-container\"><div class=\"sk-label sk-toggleable\"><input class=\"sk-toggleable__control sk-hidden--visually\" id=\"sk-estimator-id-5\" type=\"checkbox\" ><label for=\"sk-estimator-id-5\" class=\"sk-toggleable__label sk-toggleable__label-arrow\">num_skew</label><div class=\"sk-toggleable__content\"><pre>[&#x27;est_diameter_min&#x27;, &#x27;est_diameter_max&#x27;, &#x27;relative_velocity&#x27;]</pre></div></div></div><div class=\"sk-serial\"><div class=\"sk-item\"><div class=\"sk-estimator sk-toggleable\"><input class=\"sk-toggleable__control sk-hidden--visually\" id=\"sk-estimator-id-6\" type=\"checkbox\" ><label for=\"sk-estimator-id-6\" class=\"sk-toggleable__label sk-toggleable__label-arrow\">MinMaxScaler</label><div class=\"sk-toggleable__content\"><pre>MinMaxScaler()</pre></div></div></div></div></div></div><div class=\"sk-parallel-item\"><div class=\"sk-item\"><div class=\"sk-label-container\"><div class=\"sk-label sk-toggleable\"><input class=\"sk-toggleable__control sk-hidden--visually\" id=\"sk-estimator-id-7\" type=\"checkbox\" ><label for=\"sk-estimator-id-7\" class=\"sk-toggleable__label sk-toggleable__label-arrow\">nom</label><div class=\"sk-toggleable__content\"><pre>[&#x27;name&#x27;]</pre></div></div></div><div class=\"sk-serial\"><div class=\"sk-item\"><div class=\"sk-estimator sk-toggleable\"><input class=\"sk-toggleable__control sk-hidden--visually\" id=\"sk-estimator-id-8\" type=\"checkbox\" ><label for=\"sk-estimator-id-8\" class=\"sk-toggleable__label sk-toggleable__label-arrow\">passthrough</label><div class=\"sk-toggleable__content\"><pre>passthrough</pre></div></div></div></div></div></div></div></div><div class=\"sk-item sk-dashed-wrapped\"><div class=\"sk-label-container\"><div class=\"sk-label sk-toggleable\"><input class=\"sk-toggleable__control sk-hidden--visually\" id=\"sk-estimator-id-9\" type=\"checkbox\" ><label for=\"sk-estimator-id-9\" class=\"sk-toggleable__label sk-toggleable__label-arrow\">encode: ColumnTransformer</label><div class=\"sk-toggleable__content\"><pre>ColumnTransformer(transformers=[(&#x27;num&#x27;, &#x27;passthrough&#x27;, slice(0, 5, None)),\n",
       "                                (&#x27;ord&#x27;, OrdinalEncoder(), [5])])</pre></div></div></div><div class=\"sk-parallel\"><div class=\"sk-parallel-item\"><div class=\"sk-item\"><div class=\"sk-label-container\"><div class=\"sk-label sk-toggleable\"><input class=\"sk-toggleable__control sk-hidden--visually\" id=\"sk-estimator-id-10\" type=\"checkbox\" ><label for=\"sk-estimator-id-10\" class=\"sk-toggleable__label sk-toggleable__label-arrow\">num</label><div class=\"sk-toggleable__content\"><pre>slice(0, 5, None)</pre></div></div></div><div class=\"sk-serial\"><div class=\"sk-item\"><div class=\"sk-estimator sk-toggleable\"><input class=\"sk-toggleable__control sk-hidden--visually\" id=\"sk-estimator-id-11\" type=\"checkbox\" ><label for=\"sk-estimator-id-11\" class=\"sk-toggleable__label sk-toggleable__label-arrow\">passthrough</label><div class=\"sk-toggleable__content\"><pre>passthrough</pre></div></div></div></div></div></div><div class=\"sk-parallel-item\"><div class=\"sk-item\"><div class=\"sk-label-container\"><div class=\"sk-label sk-toggleable\"><input class=\"sk-toggleable__control sk-hidden--visually\" id=\"sk-estimator-id-12\" type=\"checkbox\" ><label for=\"sk-estimator-id-12\" class=\"sk-toggleable__label sk-toggleable__label-arrow\">ord</label><div class=\"sk-toggleable__content\"><pre>[5]</pre></div></div></div><div class=\"sk-serial\"><div class=\"sk-item\"><div class=\"sk-estimator sk-toggleable\"><input class=\"sk-toggleable__control sk-hidden--visually\" id=\"sk-estimator-id-13\" type=\"checkbox\" ><label for=\"sk-estimator-id-13\" class=\"sk-toggleable__label sk-toggleable__label-arrow\">OrdinalEncoder</label><div class=\"sk-toggleable__content\"><pre>OrdinalEncoder()</pre></div></div></div></div></div></div></div></div><div class=\"sk-item\"><div class=\"sk-estimator sk-toggleable\"><input class=\"sk-toggleable__control sk-hidden--visually\" id=\"sk-estimator-id-14\" type=\"checkbox\" ><label for=\"sk-estimator-id-14\" class=\"sk-toggleable__label sk-toggleable__label-arrow\">RandomForestClassifier</label><div class=\"sk-toggleable__content\"><pre>RandomForestClassifier(random_state=42)</pre></div></div></div></div></div></div></div>"
      ],
      "text/plain": [
       "Pipeline(steps=[('scale',\n",
       "                 ColumnTransformer(transformers=[('num_norm', StandardScaler(),\n",
       "                                                  ['miss_distance',\n",
       "                                                   'absolute_magnitude']),\n",
       "                                                 ('num_skew', MinMaxScaler(),\n",
       "                                                  ['est_diameter_min',\n",
       "                                                   'est_diameter_max',\n",
       "                                                   'relative_velocity']),\n",
       "                                                 ('nom', 'passthrough',\n",
       "                                                  ['name'])])),\n",
       "                ('encode',\n",
       "                 ColumnTransformer(transformers=[('num', 'passthrough',\n",
       "                                                  slice(0, 5, None)),\n",
       "                                                 ('ord', OrdinalEncoder(),\n",
       "                                                  [5])])),\n",
       "                ('rf', RandomForestClassifier(random_state=42))])"
      ]
     },
     "execution_count": 74,
     "metadata": {},
     "output_type": "execute_result"
    }
   ],
   "source": [
    "pipe_rf.fit(X_train, y_train)"
   ]
  },
  {
   "cell_type": "code",
   "execution_count": 75,
   "metadata": {},
   "outputs": [],
   "source": [
    "# calculate standard deviation of each feature\n",
    "std = np.std([tree.feature_importances_ for tree in rf.estimators_], axis=0)"
   ]
  },
  {
   "cell_type": "code",
   "execution_count": 76,
   "metadata": {},
   "outputs": [],
   "source": [
    "# create dataframe with features and their importance\n",
    "importance_df = pd.DataFrame(\n",
    "    dict(zip(\n",
    "        num_cols_norm + num_cols_skew + nom_cols,\n",
    "        rf.feature_importances_.tolist()\n",
    "    )),\n",
    "    index=['importance']\n",
    ").transpose()"
   ]
  },
  {
   "cell_type": "code",
   "execution_count": 77,
   "metadata": {},
   "outputs": [
    {
     "data": {
      "image/png": "[encoded data removed]",
      "text/plain": [
       "<Figure size 1440x720 with 1 Axes>"
      ]
     },
     "metadata": {},
     "output_type": "display_data"
    }
   ],
   "source": [
    "plt.figure(figsize=(20, 10))\n",
    "sns.barplot(\n",
    "    data=importance_df,\n",
    "    x='importance',\n",
    "    y=importance_df.index,\n",
    "    xerr=std,\n",
    "    order=importance_df['importance'].sort_values(ascending=False).index,\n",
    "    orient='h'\n",
    ")\n",
    "plt.title('Feature Importance using MDI')\n",
    "plt.ylabel('Mean decrease in impurity')\n",
    "plt.show()"
   ]
  },
  {
   "cell_type": "markdown",
   "metadata": {},
   "source": [
    "We can see that the feature 'name' is the most important feature for our model according to random forest. However, the name itself is not very meaningful, as we assign the name and it should not have predictive values\n",
    "\n",
    "`est_diameter_min` and `est_diameter_max` represent similar features, so we can merge them with mean value."
   ]
  },
  {
   "cell_type": "markdown",
   "metadata": {},
   "source": [
    "### Column Transformer"
   ]
  },
  {
   "cell_type": "code",
   "execution_count": 78,
   "metadata": {},
   "outputs": [],
   "source": [
    "# create transformer to create est_diameter representing the average of min and max diameter\n",
    "class DiameterTransformer(BaseEstimator, TransformerMixin):\n",
    "    \"\"\"Column transformer for diameter\"\"\"\n",
    "    def __init__(self, combine_diameter=True):\n",
    "        self.combine_diameter = combine_diameter\n",
    "\n",
    "    def fit(self, X, y=None):\n",
    "        return self\n",
    "\n",
    "    def transform(self, X, y=None):\n",
    "        X_output = X.copy()\n",
    "        X_output['est_diameter'] = (X_output['est_diameter_min'] + X_output['est_diameter_max']) / 2\n",
    "        X_output = X_output.drop(columns=['est_diameter_min', 'est_diameter_max'])\n",
    "        return X_output"
   ]
  },
  {
   "cell_type": "code",
   "execution_count": 79,
   "metadata": {},
   "outputs": [],
   "source": [
    "# create transformer to drop unneeded columns\n",
    "class ColumnDropper(BaseEstimator, TransformerMixin):\n",
    "    def __init__(self, columns=['id', 'name', 'orbiting_body', 'sentry_object']):\n",
    "        self.columns = columns\n",
    "    \n",
    "    def fit(self, X, y=None):\n",
    "        return self\n",
    "    \n",
    "    def transform(self, X, y=None):\n",
    "        X_output = X.copy()\n",
    "        drop_cols = []\n",
    "        for column in self.columns:\n",
    "            if column in X_output.columns:\n",
    "                drop_cols.append(column)\n",
    "        X_output = X_output.drop(drop_cols, axis=1)\n",
    "        return X_output\n"
   ]
  },
  {
   "cell_type": "markdown",
   "metadata": {},
   "source": [
    "### Should we Oversample?"
   ]
  },
  {
   "cell_type": "code",
   "execution_count": 80,
   "metadata": {},
   "outputs": [],
   "source": [
    "# initial model random forest\n",
    "rf_nosmote = RandomForestClassifier(random_state=42)\n",
    "rf_smote = RandomForestClassifier(random_state=42)"
   ]
  },
  {
   "cell_type": "code",
   "execution_count": 81,
   "metadata": {},
   "outputs": [],
   "source": [
    "# create pipeline model without smote\n",
    "pipe_rf_nosmote = imbPipeline([\n",
    "    ('drop', ColumnDropper()),\n",
    "    ('diameter', DiameterTransformer()),\n",
    "    ('scale', std_sc),\n",
    "    ('model', rf_nosmote),\n",
    "])"
   ]
  },
  {
   "cell_type": "code",
   "execution_count": 82,
   "metadata": {},
   "outputs": [],
   "source": [
    "# create pipeline mode with smote\n",
    "pipe_rf_model = imbPipeline([\n",
    "    ('drop', ColumnDropper()),\n",
    "    ('diameter', DiameterTransformer()),\n",
    "    ('scale', std_sc),\n",
    "    ('oversample', smote),\n",
    "    ('model', rf_smote),\n",
    "])"
   ]
  },
  {
   "cell_type": "code",
   "execution_count": 83,
   "metadata": {},
   "outputs": [
    {
     "data": {
      "text/html": [
       "<style>#sk-container-id-2 {color: black;background-color: white;}#sk-container-id-2 pre{padding: 0;}#sk-container-id-2 div.sk-toggleable {background-color: white;}#sk-container-id-2 label.sk-toggleable__label {cursor: pointer;display: block;width: 100%;margin-bottom: 0;padding: 0.3em;box-sizing: border-box;text-align: center;}#sk-container-id-2 label.sk-toggleable__label-arrow:before {content: \"▸\";float: left;margin-right: 0.25em;color: #696969;}#sk-container-id-2 label.sk-toggleable__label-arrow:hover:before {color: black;}#sk-container-id-2 div.sk-estimator:hover label.sk-toggleable__label-arrow:before {color: black;}#sk-container-id-2 div.sk-toggleable__content {max-height: 0;max-width: 0;overflow: hidden;text-align: left;background-color: #f0f8ff;}#sk-container-id-2 div.sk-toggleable__content pre {margin: 0.2em;color: black;border-radius: 0.25em;background-color: #f0f8ff;}#sk-container-id-2 input.sk-toggleable__control:checked~div.sk-toggleable__content {max-height: 200px;max-width: 100%;overflow: auto;}#sk-container-id-2 input.sk-toggleable__control:checked~label.sk-toggleable__label-arrow:before {content: \"▾\";}#sk-container-id-2 div.sk-estimator input.sk-toggleable__control:checked~label.sk-toggleable__label {background-color: #d4ebff;}#sk-container-id-2 div.sk-label input.sk-toggleable__control:checked~label.sk-toggleable__label {background-color: #d4ebff;}#sk-container-id-2 input.sk-hidden--visually {border: 0;clip: rect(1px 1px 1px 1px);clip: rect(1px, 1px, 1px, 1px);height: 1px;margin: -1px;overflow: hidden;padding: 0;position: absolute;width: 1px;}#sk-container-id-2 div.sk-estimator {font-family: monospace;background-color: #f0f8ff;border: 1px dotted black;border-radius: 0.25em;box-sizing: border-box;margin-bottom: 0.5em;}#sk-container-id-2 div.sk-estimator:hover {background-color: #d4ebff;}#sk-container-id-2 div.sk-parallel-item::after {content: \"\";width: 100%;border-bottom: 1px solid gray;flex-grow: 1;}#sk-container-id-2 div.sk-label:hover label.sk-toggleable__label {background-color: #d4ebff;}#sk-container-id-2 div.sk-serial::before {content: \"\";position: absolute;border-left: 1px solid gray;box-sizing: border-box;top: 0;bottom: 0;left: 50%;z-index: 0;}#sk-container-id-2 div.sk-serial {display: flex;flex-direction: column;align-items: center;background-color: white;padding-right: 0.2em;padding-left: 0.2em;position: relative;}#sk-container-id-2 div.sk-item {position: relative;z-index: 1;}#sk-container-id-2 div.sk-parallel {display: flex;align-items: stretch;justify-content: center;background-color: white;position: relative;}#sk-container-id-2 div.sk-item::before, #sk-container-id-2 div.sk-parallel-item::before {content: \"\";position: absolute;border-left: 1px solid gray;box-sizing: border-box;top: 0;bottom: 0;left: 50%;z-index: -1;}#sk-container-id-2 div.sk-parallel-item {display: flex;flex-direction: column;z-index: 1;position: relative;background-color: white;}#sk-container-id-2 div.sk-parallel-item:first-child::after {align-self: flex-end;width: 50%;}#sk-container-id-2 div.sk-parallel-item:last-child::after {align-self: flex-start;width: 50%;}#sk-container-id-2 div.sk-parallel-item:only-child::after {width: 0;}#sk-container-id-2 div.sk-dashed-wrapped {border: 1px dashed gray;margin: 0 0.4em 0.5em 0.4em;box-sizing: border-box;padding-bottom: 0.4em;background-color: white;}#sk-container-id-2 div.sk-label label {font-family: monospace;font-weight: bold;display: inline-block;line-height: 1.2em;}#sk-container-id-2 div.sk-label-container {text-align: center;}#sk-container-id-2 div.sk-container {/* jupyter's `normalize.less` sets `[hidden] { display: none; }` but bootstrap.min.css set `[hidden] { display: none !important; }` so we also need the `!important` here to be able to override the default hidden behavior on the sphinx rendered scikit-learn.org. See: https://github.com/scikit-learn/scikit-learn/issues/21755 */display: inline-block !important;position: relative;}#sk-container-id-2 div.sk-text-repr-fallback {display: none;}</style><div id=\"sk-container-id-2\" class=\"sk-top-container\"><div class=\"sk-text-repr-fallback\"><pre>Pipeline(steps=[(&#x27;drop&#x27;, ColumnDropper()), (&#x27;diameter&#x27;, DiameterTransformer()),\n",
       "                (&#x27;scale&#x27;, StandardScaler()),\n",
       "                (&#x27;oversample&#x27;, SMOTE(random_state=42)),\n",
       "                (&#x27;model&#x27;, RandomForestClassifier(random_state=42))])</pre><b>In a Jupyter environment, please rerun this cell to show the HTML representation or trust the notebook. <br />On GitHub, the HTML representation is unable to render, please try loading this page with nbviewer.org.</b></div><div class=\"sk-container\" hidden><div class=\"sk-item sk-dashed-wrapped\"><div class=\"sk-label-container\"><div class=\"sk-label sk-toggleable\"><input class=\"sk-toggleable__control sk-hidden--visually\" id=\"sk-estimator-id-15\" type=\"checkbox\" ><label for=\"sk-estimator-id-15\" class=\"sk-toggleable__label sk-toggleable__label-arrow\">Pipeline</label><div class=\"sk-toggleable__content\"><pre>Pipeline(steps=[(&#x27;drop&#x27;, ColumnDropper()), (&#x27;diameter&#x27;, DiameterTransformer()),\n",
       "                (&#x27;scale&#x27;, StandardScaler()),\n",
       "                (&#x27;oversample&#x27;, SMOTE(random_state=42)),\n",
       "                (&#x27;model&#x27;, RandomForestClassifier(random_state=42))])</pre></div></div></div><div class=\"sk-serial\"><div class=\"sk-item\"><div class=\"sk-estimator sk-toggleable\"><input class=\"sk-toggleable__control sk-hidden--visually\" id=\"sk-estimator-id-16\" type=\"checkbox\" ><label for=\"sk-estimator-id-16\" class=\"sk-toggleable__label sk-toggleable__label-arrow\">ColumnDropper</label><div class=\"sk-toggleable__content\"><pre>ColumnDropper()</pre></div></div></div><div class=\"sk-item\"><div class=\"sk-estimator sk-toggleable\"><input class=\"sk-toggleable__control sk-hidden--visually\" id=\"sk-estimator-id-17\" type=\"checkbox\" ><label for=\"sk-estimator-id-17\" class=\"sk-toggleable__label sk-toggleable__label-arrow\">DiameterTransformer</label><div class=\"sk-toggleable__content\"><pre>DiameterTransformer()</pre></div></div></div><div class=\"sk-item\"><div class=\"sk-estimator sk-toggleable\"><input class=\"sk-toggleable__control sk-hidden--visually\" id=\"sk-estimator-id-18\" type=\"checkbox\" ><label for=\"sk-estimator-id-18\" class=\"sk-toggleable__label sk-toggleable__label-arrow\">StandardScaler</label><div class=\"sk-toggleable__content\"><pre>StandardScaler()</pre></div></div></div><div class=\"sk-item\"><div class=\"sk-estimator sk-toggleable\"><input class=\"sk-toggleable__control sk-hidden--visually\" id=\"sk-estimator-id-19\" type=\"checkbox\" ><label for=\"sk-estimator-id-19\" class=\"sk-toggleable__label sk-toggleable__label-arrow\">SMOTE</label><div class=\"sk-toggleable__content\"><pre>SMOTE(random_state=42)</pre></div></div></div><div class=\"sk-item\"><div class=\"sk-estimator sk-toggleable\"><input class=\"sk-toggleable__control sk-hidden--visually\" id=\"sk-estimator-id-20\" type=\"checkbox\" ><label for=\"sk-estimator-id-20\" class=\"sk-toggleable__label sk-toggleable__label-arrow\">RandomForestClassifier</label><div class=\"sk-toggleable__content\"><pre>RandomForestClassifier(random_state=42)</pre></div></div></div></div></div></div></div>"
      ],
      "text/plain": [
       "Pipeline(steps=[('drop', ColumnDropper()), ('diameter', DiameterTransformer()),\n",
       "                ('scale', StandardScaler()),\n",
       "                ('oversample', SMOTE(random_state=42)),\n",
       "                ('model', RandomForestClassifier(random_state=42))])"
      ]
     },
     "execution_count": 83,
     "metadata": {},
     "output_type": "execute_result"
    }
   ],
   "source": [
    "# show summary of pipeline\n",
    "pipe_rf_nosmote.fit(X_train, y_train)\n",
    "pipe_rf_model.fit(X_train, y_train)"
   ]
  },
  {
   "cell_type": "code",
   "execution_count": 84,
   "metadata": {},
   "outputs": [],
   "source": [
    "y_train_pred_nosmote = pipe_rf_nosmote.predict(X_train)\n",
    "y_test_pred_nosmote = pipe_rf_nosmote.predict(X_test)\n",
    "\n",
    "y_train_pred_smote = pipe_rf_model.predict(X_train)\n",
    "y_test_pred_smote = pipe_rf_model.predict(X_test)"
   ]
  },
  {
   "cell_type": "code",
   "execution_count": 85,
   "metadata": {},
   "outputs": [
    {
     "name": "stdout",
     "output_type": "stream",
     "text": [
      "              precision    recall  f1-score   support\n",
      "\n",
      "       False       1.00      1.00      1.00     64579\n",
      "        True       1.00      1.00      1.00      6759\n",
      "\n",
      "    accuracy                           1.00     71338\n",
      "   macro avg       1.00      1.00      1.00     71338\n",
      "weighted avg       1.00      1.00      1.00     71338\n",
      "\n",
      "              precision    recall  f1-score   support\n",
      "\n",
      "       False       0.94      0.97      0.96     16439\n",
      "        True       0.61      0.40      0.48      1729\n",
      "\n",
      "    accuracy                           0.92     18168\n",
      "   macro avg       0.78      0.69      0.72     18168\n",
      "weighted avg       0.91      0.92      0.91     18168\n",
      "\n"
     ]
    }
   ],
   "source": [
    "# classification report without smote\n",
    "print(classification_report(y_train, y_train_pred_nosmote))\n",
    "print(classification_report(y_test, y_test_pred_nosmote))"
   ]
  },
  {
   "cell_type": "code",
   "execution_count": 86,
   "metadata": {},
   "outputs": [
    {
     "name": "stdout",
     "output_type": "stream",
     "text": [
      "              precision    recall  f1-score   support\n",
      "\n",
      "       False       1.00      1.00      1.00     64579\n",
      "        True       1.00      1.00      1.00      6759\n",
      "\n",
      "    accuracy                           1.00     71338\n",
      "   macro avg       1.00      1.00      1.00     71338\n",
      "weighted avg       1.00      1.00      1.00     71338\n",
      "\n",
      "              precision    recall  f1-score   support\n",
      "\n",
      "       False       0.96      0.92      0.94     16439\n",
      "        True       0.46      0.62      0.52      1729\n",
      "\n",
      "    accuracy                           0.89     18168\n",
      "   macro avg       0.71      0.77      0.73     18168\n",
      "weighted avg       0.91      0.89      0.90     18168\n",
      "\n"
     ]
    }
   ],
   "source": [
    "# classification report with smote\n",
    "print(classification_report(y_train, y_train_pred_smote))\n",
    "print(classification_report(y_test, y_test_pred_smote))"
   ]
  },
  {
   "cell_type": "markdown",
   "metadata": {},
   "source": [
    "We can see from the classification report that oversampling the data will help us to improve the model, as shown by the higher recall score"
   ]
  },
  {
   "cell_type": "markdown",
   "metadata": {},
   "source": [
    "## Model Definition"
   ]
  },
  {
   "cell_type": "markdown",
   "metadata": {},
   "source": [
    "In this project I will try several Supervised Learning Algorithm, that is:\n",
    "\n",
    "- Logistic Regression\n",
    "- SVM\n",
    "- Decision Tree\n",
    "- Random Forest\n",
    "- KNN\n",
    "- Naive Bayes\n",
    "- XGBoost\n",
    "\n",
    "we will try to use these algorithms to train our model and find the best model."
   ]
  },
  {
   "cell_type": "markdown",
   "metadata": {},
   "source": [
    "**Model Evaluation (Metrics)**\n",
    "\n",
    "Since the target of this project is classification, I will use these error metrics for evaluating my model:\n",
    "\n",
    "- F1 Score\n",
    "- ROC-AUC Score\n",
    "- Recall- "
   ]
  },
  {
   "cell_type": "markdown",
   "metadata": {},
   "source": [
    "**Logistic Regression**"
   ]
  },
  {
   "cell_type": "code",
   "execution_count": 87,
   "metadata": {},
   "outputs": [],
   "source": [
    "pipe_rf_model = imbPipeline([\n",
    "    ('drop', ColumnDropper()),\n",
    "    ('diameter', DiameterTransformer()),\n",
    "    ('scale', std_sc),\n",
    "    ('oversample', smote),\n",
    "    ('model', rf_smote),\n",
    "])"
   ]
  },
  {
   "cell_type": "code",
   "execution_count": 88,
   "metadata": {},
   "outputs": [],
   "source": [
    "# Initial Model\n",
    "Logreg = LogisticRegression(n_jobs=-1, random_state=42)\n",
    "\n",
    "# Model Pipeline\n",
    "pipe_Logreg = imbPipeline([\n",
    "    ('drop', ColumnDropper()),\n",
    "    ('diameter', DiameterTransformer()),\n",
    "    ('scale', std_sc),\n",
    "    ('oversample', smote),\n",
    "    ('Logreg', Logreg),\n",
    "])\n",
    "\n",
    "# Hyper parameter\n",
    "params_Logreg = {\n",
    "    'Logreg__C': [0.001, 0.1, 1, 10, 100, 1000],\n",
    "    'Logreg__solver': ['newton-cg', 'lbfgs', 'liblinear', 'sag', 'saga']\n",
    "}"
   ]
  },
  {
   "cell_type": "markdown",
   "metadata": {},
   "source": [
    "**Support Vector Machine - SVC**"
   ]
  },
  {
   "cell_type": "code",
   "execution_count": 89,
   "metadata": {},
   "outputs": [],
   "source": [
    "# Initial Model\n",
    "Lin_SVC = SVC(cache_size=2000, random_state=42)\n",
    "\n",
    "# Model Pipeline\n",
    "pipe_Lin_SVC = imbPipeline([\n",
    "    ('drop', ColumnDropper()),\n",
    "    ('diameter', DiameterTransformer()),\n",
    "    ('scale', std_sc),\n",
    "    ('oversample', smote),\n",
    "    ('Lin_SVC', Lin_SVC),\n",
    "])\n",
    "\n",
    "# Hyper parameter\n",
    "params_Lin_SVC = {\n",
    "    'Lin_SVC__C': [0.25, 0.5, 0.75, 1],\n",
    "    'Lin_SVC__kernel': ['linear', 'rbf', 'sigmoid'],\n",
    "    'Lin_SVC__gamma': ['auto', 'scale']\n",
    "}"
   ]
  },
  {
   "cell_type": "markdown",
   "metadata": {},
   "source": [
    "**Decision Tree**"
   ]
  },
  {
   "cell_type": "code",
   "execution_count": 90,
   "metadata": {},
   "outputs": [],
   "source": [
    "# Initial Model\n",
    "DT = DecisionTreeClassifier(random_state=42)\n",
    "\n",
    "# Model Pipeline\n",
    "pipe_DT = imbPipeline([\n",
    "    ('drop', ColumnDropper()),\n",
    "    ('diameter', DiameterTransformer()),\n",
    "    ('scale', std_sc),\n",
    "    ('oversample', smote),\n",
    "    ('DT', DT),\n",
    "])\n",
    "\n",
    "# Hyper parameter\n",
    "params_DT = {\n",
    "    'DT__criterion': ['gini', 'entropy'],\n",
    "    'DT__max_depth': [None, 8, 16, 32],\n",
    "    'DT__min_samples_split': [2, 4, 8, 16, 32, 64]\n",
    "}"
   ]
  },
  {
   "cell_type": "markdown",
   "metadata": {},
   "source": [
    "**Random Forest**"
   ]
  },
  {
   "cell_type": "code",
   "execution_count": 91,
   "metadata": {},
   "outputs": [],
   "source": [
    "# Initial Model\n",
    "RF = RandomForestClassifier(random_state=42, n_jobs=-1, verbose=1)\n",
    "\n",
    "# Model Pipeline\n",
    "pipe_RF = imbPipeline([\n",
    "    ('drop', ColumnDropper()),\n",
    "    ('diameter', DiameterTransformer()),\n",
    "    ('scale', std_sc),\n",
    "    ('oversample', smote),\n",
    "    ('RF', RF),\n",
    "])\n",
    "\n",
    "# Hyper parameter\n",
    "params_RF = {\n",
    "    'RF__criterion': ['gini', 'entropy'],\n",
    "    'RF__min_samples_split': [2, 4, 8, 16, 32, 64],\n",
    "    'RF__max_features': ['auto', 'sqrt', 'log2']\n",
    "}"
   ]
  },
  {
   "cell_type": "markdown",
   "metadata": {},
   "source": [
    "**KNN**"
   ]
  },
  {
   "cell_type": "code",
   "execution_count": 92,
   "metadata": {},
   "outputs": [],
   "source": [
    "# Initial Model\n",
    "KNN = KNeighborsClassifier(n_jobs=-1)\n",
    "\n",
    "# Model Pipeline\n",
    "pipe_KNN = imbPipeline([\n",
    "    ('drop', ColumnDropper()),\n",
    "    ('diameter', DiameterTransformer()),\n",
    "    ('scale', std_sc),\n",
    "    ('oversample', smote),\n",
    "    ('KNN', KNN),\n",
    "])\n",
    "\n",
    "# Hyper parameter\n",
    "params_KNN = {\n",
    "    'KNN__n_neighbors': [5, 7, 9, 30],\n",
    "    'KNN__weights': ['uniform', 'distance'],\n",
    "    'KNN__algorithm': ['auto', 'ball_tree', 'kd_tree', 'brute']\n",
    "}"
   ]
  },
  {
   "cell_type": "markdown",
   "metadata": {},
   "source": [
    "**Naive Bayes**"
   ]
  },
  {
   "cell_type": "code",
   "execution_count": 93,
   "metadata": {},
   "outputs": [],
   "source": [
    "# Initial Model\n",
    "NB = GaussianNB()\n",
    "\n",
    "# Model Pipeline\n",
    "pipe_NB = imbPipeline([\n",
    "    ('drop', ColumnDropper()),\n",
    "    ('diameter', DiameterTransformer()),\n",
    "    ('scale', std_sc),\n",
    "    ('oversample', smote),\n",
    "    ('NB', NB),\n",
    "])\n",
    "\n",
    "# Hyper parameter\n",
    "params_NB = {\n",
    "    'NB__var_smoothing': [1e-9, 1e-7, 1e-5, 1e-3, 1e-1, 1, 10, 100, 1000, 10000]\n",
    "}"
   ]
  },
  {
   "cell_type": "markdown",
   "metadata": {},
   "source": [
    "**XGBoost**"
   ]
  },
  {
   "cell_type": "code",
   "execution_count": 94,
   "metadata": {},
   "outputs": [],
   "source": [
    "# Initial Model\n",
    "XGB = XGBClassifier()\n",
    "\n",
    "# Model Pipeline\n",
    "pipe_XGB = imbPipeline([\n",
    "    ('drop', ColumnDropper()),\n",
    "    ('diameter', DiameterTransformer()),\n",
    "    ('scale', std_sc),\n",
    "    ('oversample', smote),\n",
    "    ('XGB', XGB),\n",
    "])\n",
    "\n",
    "# Hyper parameter\n",
    "params_XGB = {\n",
    "    'XGB__n_estimators': [100,500, 1000],\n",
    "    'XGB__eta': [0.1, 0.05, 0.01],\n",
    "    'XGB__max_depth': [2, 3, 5, 10],\n",
    "    'XGB__min_child_weight': [1, 2, 3, 4 ,5],\n",
    "}"
   ]
  },
  {
   "cell_type": "markdown",
   "metadata": {},
   "source": [
    "## Model Training\n",
    "\n",
    "**Cross Validation**\n",
    "\n",
    "In this part of sub-process, I will use Cross-Validation to evaluate my base model and find which one is the best."
   ]
  },
  {
   "cell_type": "code",
   "execution_count": 95,
   "metadata": {},
   "outputs": [
    {
     "name": "stderr",
     "output_type": "stream",
     "text": [
      "[Parallel(n_jobs=-1)]: Using backend ThreadingBackend with 6 concurrent workers.\n",
      "[Parallel(n_jobs=-1)]: Done  38 tasks      | elapsed:    2.3s\n",
      "[Parallel(n_jobs=-1)]: Done 100 out of 100 | elapsed:    6.1s finished\n"
     ]
    }
   ],
   "source": [
    "# Cross-validate base model\n",
    "\n",
    "# prepare models and put it into list\n",
    "models = []\n",
    "models.append(('Logreg', pipe_Logreg))\n",
    "models.append(('Lin_SVC', pipe_Lin_SVC))\n",
    "models.append(('DT', pipe_DT))\n",
    "models.append(('RF', pipe_RF))\n",
    "models.append(('KNN', pipe_KNN))\n",
    "models.append(('NB', pipe_NB))\n",
    "models.append(('XGB', pipe_XGB))\n",
    "\n",
    "# Create empty list to stores result\n",
    "names = []\n",
    "results = []\n",
    "mean_score = []\n",
    "stdev_score = []\n",
    "\n",
    "# Cross-validate each model\n",
    "for name, model in models:\n",
    "    model.fit(X_train,y_train)\n",
    "    scores = cross_val_score(model, X_train, y_train, scoring='f1_weighted', cv=5, n_jobs=-1)\n",
    "\n",
    "    names.append(name)\n",
    "    results.append(scores)\n",
    "    mean_score.append(round(np.mean(scores),4))\n",
    "    stdev_score.append(round(np.std(scores),4))\n",
    "\n",
    "cv_result = pd.DataFrame({'models':names, 'mean_score':mean_score, 'stdev_score':stdev_score})"
   ]
  },
  {
   "cell_type": "markdown",
   "metadata": {},
   "source": [
    "## Model Evaluation\n",
    "\n",
    "In this part of process, I will try to evaluate the trained model and make conclusion out of it"
   ]
  },
  {
   "cell_type": "code",
   "execution_count": 102,
   "metadata": {},
   "outputs": [
    {
     "data": {
      "text/html": [
       "<div>\n",
       "<style scoped>\n",
       "    .dataframe tbody tr th:only-of-type {\n",
       "        vertical-align: middle;\n",
       "    }\n",
       "\n",
       "    .dataframe tbody tr th {\n",
       "        vertical-align: top;\n",
       "    }\n",
       "\n",
       "    .dataframe thead th {\n",
       "        text-align: right;\n",
       "    }\n",
       "</style>\n",
       "<table border=\"1\" class=\"dataframe\">\n",
       "  <thead>\n",
       "    <tr style=\"text-align: right;\">\n",
       "      <th></th>\n",
       "      <th>models</th>\n",
       "      <th>mean_score</th>\n",
       "      <th>stdev_score</th>\n",
       "    </tr>\n",
       "  </thead>\n",
       "  <tbody>\n",
       "    <tr>\n",
       "      <th>3</th>\n",
       "      <td>RF</td>\n",
       "      <td>0.8996</td>\n",
       "      <td>0.0047</td>\n",
       "    </tr>\n",
       "    <tr>\n",
       "      <th>2</th>\n",
       "      <td>DT</td>\n",
       "      <td>0.8952</td>\n",
       "      <td>0.0038</td>\n",
       "    </tr>\n",
       "    <tr>\n",
       "      <th>6</th>\n",
       "      <td>XGB</td>\n",
       "      <td>0.8750</td>\n",
       "      <td>0.0042</td>\n",
       "    </tr>\n",
       "    <tr>\n",
       "      <th>4</th>\n",
       "      <td>KNN</td>\n",
       "      <td>0.8677</td>\n",
       "      <td>0.0038</td>\n",
       "    </tr>\n",
       "    <tr>\n",
       "      <th>5</th>\n",
       "      <td>NB</td>\n",
       "      <td>0.8329</td>\n",
       "      <td>0.0034</td>\n",
       "    </tr>\n",
       "    <tr>\n",
       "      <th>1</th>\n",
       "      <td>Lin_SVC</td>\n",
       "      <td>0.8249</td>\n",
       "      <td>0.0028</td>\n",
       "    </tr>\n",
       "    <tr>\n",
       "      <th>0</th>\n",
       "      <td>Logreg</td>\n",
       "      <td>0.8153</td>\n",
       "      <td>0.0035</td>\n",
       "    </tr>\n",
       "  </tbody>\n",
       "</table>\n",
       "</div>"
      ],
      "text/plain": [
       "    models  mean_score  stdev_score\n",
       "3       RF      0.8996       0.0047\n",
       "2       DT      0.8952       0.0038\n",
       "6      XGB      0.8750       0.0042\n",
       "4      KNN      0.8677       0.0038\n",
       "5       NB      0.8329       0.0034\n",
       "1  Lin_SVC      0.8249       0.0028\n",
       "0   Logreg      0.8153       0.0035"
      ]
     },
     "execution_count": 102,
     "metadata": {},
     "output_type": "execute_result"
    }
   ],
   "source": [
    "\n",
    "# Showing the result\n",
    "cv_result.sort_values(by='mean_score', ascending=False)"
   ]
  },
  {
   "cell_type": "markdown",
   "metadata": {},
   "source": [
    "Based on result above, we can see the top model is Random Forest, it has the best mean_score with however didn't get the lowest stdev_score from other models, in my opinion our base model actually perform pretty good, this indicates the model has precision and accurate enough to predict the target value. The most under performed model in this case is only Logistic Regression model. So i decided choose Random Forest to do hyper parameter tuning."
   ]
  },
  {
   "cell_type": "markdown",
   "metadata": {},
   "source": [
    "**Hyper Parameter Tuning for the Best Model - Random Forest**"
   ]
  },
  {
   "cell_type": "code",
   "execution_count": 98,
   "metadata": {},
   "outputs": [
    {
     "name": "stdout",
     "output_type": "stream",
     "text": [
      "Fitting 5 folds for each of 36 candidates, totalling 180 fits\n"
     ]
    },
    {
     "name": "stderr",
     "output_type": "stream",
     "text": [
      "[Parallel(n_jobs=-1)]: Using backend ThreadingBackend with 6 concurrent workers.\n",
      "[Parallel(n_jobs=-1)]: Done  38 tasks      | elapsed:    2.8s\n",
      "[Parallel(n_jobs=-1)]: Done 100 out of 100 | elapsed:    7.5s finished\n"
     ]
    }
   ],
   "source": [
    "# Hyperparameter tuning\n",
    "grid_RF = GridSearchCV(\n",
    "    pipe_RF, params_RF, cv=5, scoring='f1_weighted', n_jobs=-1, verbose=1\n",
    ").fit(X_train, y_train)\n",
    "\n",
    "best_params_RF = grid_RF.best_params_\n",
    "best_pipe_RF = grid_RF.best_estimator_\n",
    "df_result_RF = pd.DataFrame.from_dict(grid_RF.cv_results_, orient='columns')"
   ]
  },
  {
   "cell_type": "code",
   "execution_count": 99,
   "metadata": {},
   "outputs": [
    {
     "data": {
      "text/plain": [
       "{'RF__criterion': 'entropy',\n",
       " 'RF__max_features': 'auto',\n",
       " 'RF__min_samples_split': 2}"
      ]
     },
     "execution_count": 99,
     "metadata": {},
     "output_type": "execute_result"
    }
   ],
   "source": [
    "# Show best parameter for Model\n",
    "best_params_RF"
   ]
  },
  {
   "cell_type": "markdown",
   "metadata": {},
   "source": [
    "Based on result above, the best hyper parameter setting for Random Forest are :\n",
    "- criterion: entropy\n",
    "- min_samples_split: auto\n",
    "- max_features: 2"
   ]
  },
  {
   "cell_type": "code",
   "execution_count": 105,
   "metadata": {},
   "outputs": [
    {
     "name": "stdout",
     "output_type": "stream",
     "text": [
      "[False False False ... False  True False]\n"
     ]
    },
    {
     "name": "stderr",
     "output_type": "stream",
     "text": [
      "[Parallel(n_jobs=6)]: Using backend ThreadingBackend with 6 concurrent workers.\n",
      "[Parallel(n_jobs=6)]: Done  38 tasks      | elapsed:    0.0s\n",
      "[Parallel(n_jobs=6)]: Done 100 out of 100 | elapsed:    0.0s finished\n"
     ]
    }
   ],
   "source": [
    "# Prediction using `Test_Set` on 1st model\n",
    "y_test_pred_RF = best_pipe_RF.predict(X_test)\n",
    "# Result\n",
    "print(y_test_pred_RF)"
   ]
  },
  {
   "cell_type": "code",
   "execution_count": 103,
   "metadata": {},
   "outputs": [
    {
     "name": "stdout",
     "output_type": "stream",
     "text": [
      "==================== Train Results (Random Forest) ====================\n"
     ]
    },
    {
     "name": "stderr",
     "output_type": "stream",
     "text": [
      "[Parallel(n_jobs=6)]: Using backend ThreadingBackend with 6 concurrent workers.\n",
      "[Parallel(n_jobs=6)]: Done  38 tasks      | elapsed:    0.0s\n"
     ]
    },
    {
     "name": "stdout",
     "output_type": "stream",
     "text": [
      "              precision    recall  f1-score   support\n",
      "\n",
      "       False       1.00      1.00      1.00     64579\n",
      "        True       1.00      1.00      1.00      6759\n",
      "\n",
      "    accuracy                           1.00     71338\n",
      "   macro avg       1.00      1.00      1.00     71338\n",
      "weighted avg       1.00      1.00      1.00     71338\n",
      "\n",
      "==================== Test Results (Random Forest) ====================\n",
      "              precision    recall  f1-score   support\n",
      "\n",
      "       False       0.96      0.92      0.94     16439\n",
      "        True       0.46      0.63      0.53      1729\n",
      "\n",
      "    accuracy                           0.89     18168\n",
      "   macro avg       0.71      0.77      0.73     18168\n",
      "weighted avg       0.91      0.89      0.90     18168\n",
      "\n"
     ]
    },
    {
     "name": "stderr",
     "output_type": "stream",
     "text": [
      "[Parallel(n_jobs=6)]: Done 100 out of 100 | elapsed:    0.1s finished\n",
      "[Parallel(n_jobs=6)]: Using backend ThreadingBackend with 6 concurrent workers.\n",
      "[Parallel(n_jobs=6)]: Done  38 tasks      | elapsed:    0.0s\n",
      "[Parallel(n_jobs=6)]: Done 100 out of 100 | elapsed:    0.0s finished\n"
     ]
    }
   ],
   "source": [
    "#Performance Metrics\n",
    "print('==================== Train Results (Random Forest) ====================')\n",
    "print(classification_report(y_train, best_pipe_RF.predict(X_train), target_names=['False', 'True']))\n",
    "\n",
    "print('==================== Test Results (Random Forest) ====================')\n",
    "print(classification_report(y_test, best_pipe_RF.predict(X_test), target_names=['False', 'True']))\n"
   ]
  },
  {
   "cell_type": "markdown",
   "metadata": {},
   "source": [
    "From the test result we see there has no difference result between the best hyper parameter setting and the default setting from we try before, and the condition from the model quite overfitting but we still has enough score from recall score."
   ]
  },
  {
   "cell_type": "code",
   "execution_count": 104,
   "metadata": {},
   "outputs": [
    {
     "name": "stdout",
     "output_type": "stream",
     "text": [
      "==================== Train Results (Random Forest) ====================\n"
     ]
    },
    {
     "name": "stderr",
     "output_type": "stream",
     "text": [
      "[Parallel(n_jobs=6)]: Using backend ThreadingBackend with 6 concurrent workers.\n",
      "[Parallel(n_jobs=6)]: Done  38 tasks      | elapsed:    0.0s\n"
     ]
    },
    {
     "name": "stdout",
     "output_type": "stream",
     "text": [
      "0.9999922575450223\n",
      "==================== Test Results (Random Forest) ====================\n",
      "0.774087482084511\n"
     ]
    },
    {
     "name": "stderr",
     "output_type": "stream",
     "text": [
      "[Parallel(n_jobs=6)]: Done 100 out of 100 | elapsed:    0.1s finished\n",
      "[Parallel(n_jobs=6)]: Using backend ThreadingBackend with 6 concurrent workers.\n",
      "[Parallel(n_jobs=6)]: Done  38 tasks      | elapsed:    0.0s\n",
      "[Parallel(n_jobs=6)]: Done 100 out of 100 | elapsed:    0.0s finished\n"
     ]
    }
   ],
   "source": [
    "#Performance Metrics\n",
    "print('==================== Train Results (Random Forest) ====================')\n",
    "print(roc_auc_score(y_train, best_pipe_RF.predict(X_train)))\n",
    "\n",
    "print('==================== Test Results (Random Forest) ====================')\n",
    "print(roc_auc_score(y_test, best_pipe_RF.predict(X_test)))"
   ]
  },
  {
   "cell_type": "code",
   "execution_count": 108,
   "metadata": {},
   "outputs": [
    {
     "data": {
      "image/png": "[encoded data removed]",
      "text/plain": [
       "<Figure size 432x288 with 2 Axes>"
      ]
     },
     "metadata": {},
     "output_type": "display_data"
    }
   ],
   "source": [
    "# Confusion Matrix of Functional API test set \n",
    "cm = confusion_matrix(y_test,y_test_pred_RF)\n",
    "disp = ConfusionMatrixDisplay(confusion_matrix=cm)\n",
    "\n",
    "disp.plot(cmap = 'Blues')\n",
    "plt.title('Confusion Matrix Test Set')\n",
    "plt.xlabel('Predicted')\n",
    "plt.ylabel('Actual')\n",
    "plt.show()"
   ]
  },
  {
   "cell_type": "markdown",
   "metadata": {},
   "source": [
    "**Performance Summary of Random Forest Model**\n",
    "\n",
    "Based on result above, i can say that:\n",
    "\n",
    "- The model performance is quite similar from result before hyper parameter tuning, and the model still overfitting from ROC-AUC score.\n",
    "- The model has tendency to predict good on for False or 'Not Hazardous' and relatively well on True 'Hazardous' label.\n",
    "- Based from confusion matrix, we cann there are some imbalance between two label target and it is affected the result of performance.\n",
    "\n",
    "For Inference test, I will use Random Forest as my main model cause it was the only model we going to do.\n"
   ]
  },
  {
   "cell_type": "markdown",
   "metadata": {},
   "source": [
    "**Model Saving**\n",
    "\n",
    "In this part of sub-process, I will save the chosen model so that it can be deployed to the production environment."
   ]
  },
  {
   "cell_type": "code",
   "execution_count": 114,
   "metadata": {},
   "outputs": [],
   "source": [
    "# Save the best model\n",
    "with open('model.pkl', 'wb') as f:\n",
    "    pickle.dump(best_pipe_RF, f)"
   ]
  },
  {
   "cell_type": "markdown",
   "metadata": {},
   "source": [
    "## Model Inference"
   ]
  },
  {
   "cell_type": "markdown",
   "metadata": {},
   "source": [
    "In this part of process, I will try to feed the machine learning model using the Inference Set and see how it perform.\n",
    "\n",
    "Before feeding the set into the model, We need to do exact same process of Missing value handling, Feature selection and engineering process to the Inference Set"
   ]
  },
  {
   "cell_type": "markdown",
   "metadata": {},
   "source": []
  }
 ],
 "metadata": {
  "kernelspec": {
   "display_name": "Python 3.9.7 ('base')",
   "language": "python",
   "name": "python3"
  },
  "language_info": {
   "codemirror_mode": {
    "name": "ipython",
    "version": 3
   },
   "file_extension": ".py",
   "mimetype": "text/x-python",
   "name": "python",
   "nbconvert_exporter": "python",
   "pygments_lexer": "ipython3",
   "version": "3.9.7"
  },
  "orig_nbformat": 4,
  "vscode": {
   "interpreter": {
    "hash": "4ba04a4154796dc9f1fb51be3a9482ca72d81f970391e8ed4f56fce6fd21f80b"
   }
  }
 },
 "nbformat": 4,
 "nbformat_minor": 2
}
